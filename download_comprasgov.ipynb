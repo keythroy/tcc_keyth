{
 "cells": [
  {
   "cell_type": "markdown",
   "metadata": {
    "id": "XY7QJm0FZ5yh"
   },
   "source": [
    "# Descrição do Problema"
   ]
  },
  {
   "cell_type": "markdown",
   "metadata": {
    "id": "80EAd0BTaDfC"
   },
   "source": [
    "Na investigação de fraudes em licitações, existem muitos desafios. Diferentes ações fraudulentas, pouco diferentes das não fraudulentas. Informações descentralizada entre os dados abertos governamentais e dados abertos do setor privado.  "
   ]
  },
  {
   "cell_type": "markdown",
   "metadata": {
    "id": "If-2305zbVBf"
   },
   "source": [
    "# Objetivos"
   ]
  },
  {
   "cell_type": "markdown",
   "metadata": {
    "id": "9k22NsK1bZqc"
   },
   "source": [
    "* investigar dados de licitações do GDF relacionados a prestação de serviço de TIC entre os anos de 2014 e 2020\n",
    "\n",
    "* Identificar empresas inedonias que continuam disputando licitações\n",
    "* Identificar empresas diferentes com mesmo corpo diretor\n",
    "* Investigar contratos com dispensa de licitação realizados com essas empresas\n"
   ]
  },
  {
   "cell_type": "markdown",
   "metadata": {
    "id": "Ho_AWlWkd1yH"
   },
   "source": [
    "# Recursos"
   ]
  },
  {
   "cell_type": "markdown",
   "metadata": {
    "id": "WNWZdVeGd5Kz"
   },
   "source": [
    "\n",
    "- Trello\n",
    "- Google Colab\n",
    "- Python"
   ]
  },
  {
   "cell_type": "code",
   "execution_count": 1,
   "metadata": {
    "colab": {
     "base_uri": "https://localhost:8080/"
    },
    "collapsed": false,
    "id": "03273bcOYtZu",
    "outputId": "296068bd-cf54-44de-e912-8406d7a11634"
   },
   "outputs": [],
   "source": [
    "# Bibliotecas Py\n",
    "\n",
    "import numpy as np\n",
    "import itertools\n",
    "import shutil\n",
    "from google.colab import drive\n",
    "from google.colab import files\n",
    "\n",
    "# drive.mount('drive')"
   ]
  },
  {
   "cell_type": "markdown",
   "metadata": {
    "id": "S6t-e9qhYtZ5"
   },
   "source": [
    "# Fontes de dados"
   ]
  },
  {
   "cell_type": "markdown",
   "metadata": {
    "id": "NsPBxZgDePQp"
   },
   "source": [
    "Fontes de dados utilizadas:\n",
    "\n",
    "* SIASG - Sistema Integrado de Administração de Serviços Gerais, Ministério da Economia\n",
    " \n",
    "* CEIS - Cadastro Nacional de Empresas Inidôneas e Suspensas, Controladoria Gera da União - CGU\n",
    "\n",
    "* CNEP - Cadastro Nacional de Empresas Punidas,\n",
    "\n",
    "  - Portal de Compras Governamentais\n",
    "    - [API](http://compras.dados.gov.br/)\n",
    "    - [Dicionário de dados](http://compras.dados.gov.br/docs/lista-metodos-licitacoes.html)\n",
    "\n",
    "  - Portal da Transparência\n",
    "    - [API](http://api.portaldatransparencia.gov.br/)\n",
    "    - [Documentação](#)\n",
    "    - [Dicionário de dados](http://www.portaldatransparencia.gov.br/pagina-interna/603389-dicionario-de-dados-licitacoes)\n",
    "\n",
    "\n",
    "* Projeto de compartilhamento de dados do ICIJ - [Datashare](https://datashare.icij.org/) "
   ]
  },
  {
   "cell_type": "markdown",
   "metadata": {
    "id": "fhWi9bg28M2E"
   },
   "source": [
    "#### ORGÃOS DO DF > UASG > LICITACOES > DESPESAS > FORNECEDORES"
   ]
  },
  {
   "cell_type": "markdown",
   "metadata": {
    "id": "41J3-Q_MIs_l"
   },
   "source": [
    "# Descricão dos dados - Transparência"
   ]
  },
  {
   "cell_type": "markdown",
   "metadata": {
    "id": "MxjG26QLI-XC"
   },
   "source": [
    "### Órgãos do DF"
   ]
  },
  {
   "cell_type": "markdown",
   "metadata": {
    "id": "6sxSIUOMfy7s"
   },
   "source": [
    "### Despesas por órgão"
   ]
  },
  {
   "cell_type": "code",
   "execution_count": null,
   "metadata": {
    "collapsed": true,
    "id": "wb4WkO8ch-PT"
   },
   "outputs": [],
   "source": [
    "chave = {'chave-api-dados':'b07b2db3a9698e2a350ef9d36d0eb280'}"
   ]
  },
  {
   "cell_type": "code",
   "execution_count": null,
   "metadata": {
    "collapsed": true,
    "id": "-EdbsKg2gOvd"
   },
   "outputs": [],
   "source": [
    "json = []\n",
    "\n",
    "for ano in range(2015, 2020):\n",
    "  for i in orgaos:\n",
    "    url= f'http://api.portaldatransparencia.gov.br/api-de-dados/despesas/por-orgao?ano={ano}&orgao={i}&pagina=1'\n",
    "    # print(url)\n",
    "    res = requests.get(url, verify=True,headers=chave).json()\n",
    "    json = json + res\n",
    "  \n",
    "json = list(filter(None, json))\n",
    "dfOrgaosDespesas = pd.DataFrame(json) "
   ]
  },
  {
   "cell_type": "code",
   "execution_count": null,
   "metadata": {
    "colab": {
     "base_uri": "https://localhost:8080/"
    },
    "collapsed": true,
    "id": "E6k19LtR3eXW",
    "outputId": "1aefe950-6269-4f73-8467-1a9dccfabed3"
   },
   "outputs": [],
   "source": [
    "json[0]"
   ]
  },
  {
   "cell_type": "code",
   "execution_count": null,
   "metadata": {
    "colab": {
     "base_uri": "https://localhost:8080/",
     "height": 150
    },
    "collapsed": true,
    "id": "0NPR4ZRsDhc_",
    "outputId": "a30a9aba-3fb4-42ec-96ef-20b8f93ff63e"
   },
   "outputs": [],
   "source": [
    "dfOrgaosDespesas.head()"
   ]
  },
  {
   "cell_type": "markdown",
   "metadata": {
    "id": "V4uy_XQF-hk1"
   },
   "source": [
    "# Descrição dos dados - compras.gov.br"
   ]
  },
  {
   "cell_type": "markdown",
   "metadata": {
    "id": "XY-UekLoOgSB"
   },
   "source": [
    "ORGÃOS DO DF > UASG > LICITACOES > CONTRATOS > MODALIDADES \n",
    "\n",
    "PREGAO > RESULTADO > FORNECEDOR > ITENS > VALORES LANCES > PROPOSTAS > EVENTOS\n"
   ]
  },
  {
   "cell_type": "code",
   "execution_count": 2,
   "metadata": {},
   "outputs": [],
   "source": [
    "%run utils/compras_gov.py"
   ]
  },
  {
   "cell_type": "markdown",
   "metadata": {
    "id": "8JnA4C4eYtZ9"
   },
   "source": [
    "### Órgãos do DF"
   ]
  },
  {
   "source": [
    "#### metadados"
   ],
   "cell_type": "markdown",
   "metadata": {}
  },
  {
   "cell_type": "markdown",
   "metadata": {
    "id": "h1pz-5GEiBOL"
   },
   "source": [
    "- ativo\t- Se o órgão está ativo.\n",
    "- codigo - Código do órgão\n",
    "- codigo_tipo_adm\t- Código do tipo da administração do órgão\n",
    "- codigo_tipo_esfera\t- Tipo da esfera do órgão\n",
    "- codigo_tipo_poder\t- Código do tipo do poder do órgão\n",
    "- nome\t- Nome do órgão.\n",
    "\n",
    "http://compras.dados.gov.br/licitacoes/doc/orgao/54000"
   ]
  },
  {
   "cell_type": "markdown",
   "metadata": {
    "id": "Nob4fkHg9YwQ"
   },
   "source": [
    "#### execução"
   ]
  },
  {
   "cell_type": "code",
   "execution_count": 2,
   "metadata": {
    "collapsed": false,
    "id": "X0pC_29VYtZ_",
    "tags": []
   },
   "outputs": [
    {
     "output_type": "stream",
     "name": "stdout",
     "text": "----------------- Criando dataframe \n\n----------------- Lendo arquivo json existente: dados_fonte/compras_gov/Orgaos.json\n\n"
    },
    {
     "output_type": "execute_result",
     "data": {
      "text/plain": "   codigo                                           nome  codigo_tipo_adm  \\\n0   16000  JUSTICA DO DISTRITO FEDERAL E DOS TERRITORIOS                1   \n1   25915       FUNDO CONSTITUCIONAL DO DISTRITO FEDERAL                7   \n2   38537    CONSELHO DE ARQ. E URB. DO DISTRITO FEDERAL                3   \n3   91001              GOVERNO DO DISTRITO FEDERAL - DAR                1   \n4   97400                               DISTRITO FEDERAL               11   \n\n  codigo_tipo_esfera  codigo_tipo_poder  ativo  \\\n0            Federal                  2   True   \n1            Federal                  0   True   \n2            Federal                  0   True   \n3          Municipal                  0   True   \n4           Estadual                  0   True   \n\n                                              _links  \n0  {'self': {'href': '/licitacoes/id/orgao/16000'...  \n1  {'self': {'href': '/licitacoes/id/orgao/25915'...  \n2  {'self': {'href': '/licitacoes/id/orgao/38537'...  \n3  {'self': {'href': '/licitacoes/id/orgao/91001'...  \n4  {'self': {'href': '/licitacoes/id/orgao/97400'...  ",
      "text/html": "<div>\n<style scoped>\n    .dataframe tbody tr th:only-of-type {\n        vertical-align: middle;\n    }\n\n    .dataframe tbody tr th {\n        vertical-align: top;\n    }\n\n    .dataframe thead th {\n        text-align: right;\n    }\n</style>\n<table border=\"1\" class=\"dataframe\">\n  <thead>\n    <tr style=\"text-align: right;\">\n      <th></th>\n      <th>codigo</th>\n      <th>nome</th>\n      <th>codigo_tipo_adm</th>\n      <th>codigo_tipo_esfera</th>\n      <th>codigo_tipo_poder</th>\n      <th>ativo</th>\n      <th>_links</th>\n    </tr>\n  </thead>\n  <tbody>\n    <tr>\n      <th>0</th>\n      <td>16000</td>\n      <td>JUSTICA DO DISTRITO FEDERAL E DOS TERRITORIOS</td>\n      <td>1</td>\n      <td>Federal</td>\n      <td>2</td>\n      <td>True</td>\n      <td>{'self': {'href': '/licitacoes/id/orgao/16000'...</td>\n    </tr>\n    <tr>\n      <th>1</th>\n      <td>25915</td>\n      <td>FUNDO CONSTITUCIONAL DO DISTRITO FEDERAL</td>\n      <td>7</td>\n      <td>Federal</td>\n      <td>0</td>\n      <td>True</td>\n      <td>{'self': {'href': '/licitacoes/id/orgao/25915'...</td>\n    </tr>\n    <tr>\n      <th>2</th>\n      <td>38537</td>\n      <td>CONSELHO DE ARQ. E URB. DO DISTRITO FEDERAL</td>\n      <td>3</td>\n      <td>Federal</td>\n      <td>0</td>\n      <td>True</td>\n      <td>{'self': {'href': '/licitacoes/id/orgao/38537'...</td>\n    </tr>\n    <tr>\n      <th>3</th>\n      <td>91001</td>\n      <td>GOVERNO DO DISTRITO FEDERAL - DAR</td>\n      <td>1</td>\n      <td>Municipal</td>\n      <td>0</td>\n      <td>True</td>\n      <td>{'self': {'href': '/licitacoes/id/orgao/91001'...</td>\n    </tr>\n    <tr>\n      <th>4</th>\n      <td>97400</td>\n      <td>DISTRITO FEDERAL</td>\n      <td>11</td>\n      <td>Estadual</td>\n      <td>0</td>\n      <td>True</td>\n      <td>{'self': {'href': '/licitacoes/id/orgao/97400'...</td>\n    </tr>\n  </tbody>\n</table>\n</div>"
     },
     "metadata": {},
     "execution_count": 2
    }
   ],
   "source": [
    "\n",
    "%run utils/compras_gov.py\n",
    "\n",
    "dfOrgaos = pd.DataFrame(\n",
    "    cria_dataframe(\n",
    "        url='licitacoes/v1/orgaos.json?nome=Distrito+federal',\n",
    "        nome='Orgaos'\n",
    "    )\n",
    ")\n",
    "\n",
    "dfOrgaos.head()"
   ]
  },
  {
   "cell_type": "markdown",
   "metadata": {
    "id": "rgtxMeUhYtaF"
   },
   "source": [
    "### UASGs relacionadas e Órgãos Superiores"
   ]
  },
  {
   "cell_type": "markdown",
   "metadata": {
    "id": "Ja7mvlMK92V8"
   },
   "source": [
    "#### metadados"
   ]
  },
  {
   "cell_type": "markdown",
   "metadata": {
    "id": "J-Pfusf1k2BM"
   },
   "source": [
    "UASG: Unidade Administrativa de Serviços Gerais do SIASG\n",
    "\n",
    "- ativo -\tSe a UASG está ativa.\n",
    "- cep -\tCEP da UASG.\n",
    "- cnpj -\tCNPJ da UASG\n",
    "- id -\tIdentificador único da UASG no SICAF.\n",
    "- id_municipio -\tIdentificador único do município da UASG.\n",
    "- id_orgao -\tIdentificador único do órgão no SICAF.\n",
    "- id_orgao_superior -\tIdentificador único do órgão Superior.\n",
    "- nome -\tNome da UASG.\n",
    "- total_fornecedores_cadastrados -\tQuantidade total de fornecedores cadastrados na UASG.\n",
    "- total_fornecedores_recadastrados -\tQuantidade total de fornecedores recadastrados, no novo SICAF, na UASG.\n",
    "- unidade_cadastradora -\tUnidade cadastradora.\n",
    "\n",
    "http://compras.dados.gov.br/docs/licitacoes/v1/uasgs.html"
   ]
  },
  {
   "cell_type": "markdown",
   "metadata": {
    "id": "YSJNDUUd98i2"
   },
   "source": [
    "#### execucao"
   ]
  },
  {
   "cell_type": "code",
   "execution_count": 21,
   "metadata": {
    "colab": {
     "base_uri": "https://localhost:8080/"
    },
    "collapsed": false,
    "id": "PiW05dzvYtaG",
    "outputId": "70037eb7-1a74-4a0c-8968-3073aa60eb82",
    "tags": []
   },
   "outputs": [
    {
     "output_type": "stream",
     "name": "stdout",
     "text": "----------------- Criando dataframe \n\n----------------- Requisição API\n\n----http://compras.dados.gov.br/licitacoes/v1/uasgs.json?id_orgao=16000\n\n----------------- gerando arquivo: dados_fonte/compras_gov/uasgs.json\n\n--- formato da resposta: <class 'dict'>\n\n----------------- Formato JSON válido \n\n----------------- total de uasgs econtrados: 22 \n\n"
    },
    {
     "output_type": "error",
     "ename": "ValueError",
     "evalue": "Unable to coerce to Series, length must be 4: given 0",
     "traceback": [
      "\u001b[0;31m---------------------------------------------------------------------------\u001b[0m",
      "\u001b[0;31mValueError\u001b[0m                                Traceback (most recent call last)",
      "\u001b[0;32m/tmp/ipykernel_10073/10498440.py\u001b[0m in \u001b[0;36m<module>\u001b[0;34m\u001b[0m\n\u001b[1;32m      6\u001b[0m     \u001b[0mids\u001b[0m \u001b[0;34m=\u001b[0m \u001b[0mdfOrgaos\u001b[0m\u001b[0;34m.\u001b[0m\u001b[0mcodigo\u001b[0m\u001b[0;34m,\u001b[0m\u001b[0;34m\u001b[0m\u001b[0;34m\u001b[0m\u001b[0m\n\u001b[1;32m      7\u001b[0m     \u001b[0murl\u001b[0m \u001b[0;34m=\u001b[0m \u001b[0;34m'licitacoes/v1/uasgs.json?id_orgao='\u001b[0m\u001b[0;34m,\u001b[0m\u001b[0;34m\u001b[0m\u001b[0;34m\u001b[0m\u001b[0m\n\u001b[0;32m----> 8\u001b[0;31m     \u001b[0mnome\u001b[0m \u001b[0;34m=\u001b[0m \u001b[0;34m'uasgs'\u001b[0m\u001b[0;34m\u001b[0m\u001b[0;34m\u001b[0m\u001b[0m\n\u001b[0m\u001b[1;32m      9\u001b[0m )\n\u001b[1;32m     10\u001b[0m \u001b[0;34m\u001b[0m\u001b[0m\n",
      "\u001b[0;32m~/project/tcc_keyth/utils/compras_gov.py\u001b[0m in \u001b[0;36miterate_json\u001b[0;34m(**kwargs)\u001b[0m\n\u001b[1;32m     85\u001b[0m             \u001b[0miterate\u001b[0m \u001b[0;34m=\u001b[0m \u001b[0;32mTrue\u001b[0m\u001b[0;34m\u001b[0m\u001b[0;34m\u001b[0m\u001b[0m\n\u001b[1;32m     86\u001b[0m         )\n\u001b[0;32m---> 87\u001b[0;31m         \u001b[0marr\u001b[0m \u001b[0;34m=\u001b[0m \u001b[0marr\u001b[0m \u001b[0;34m+\u001b[0m \u001b[0mdf\u001b[0m\u001b[0;34m\u001b[0m\u001b[0;34m\u001b[0m\u001b[0m\n\u001b[0m\u001b[1;32m     88\u001b[0m \u001b[0;34m\u001b[0m\u001b[0m\n\u001b[1;32m     89\u001b[0m     \u001b[0;32mreturn\u001b[0m \u001b[0marr\u001b[0m\u001b[0;34m\u001b[0m\u001b[0;34m\u001b[0m\u001b[0m\n",
      "\u001b[0;32m/opt/conda/envs/tcc_env/lib/python3.7/site-packages/pandas/core/ops/common.py\u001b[0m in \u001b[0;36mnew_method\u001b[0;34m(self, other)\u001b[0m\n\u001b[1;32m     67\u001b[0m         \u001b[0mother\u001b[0m \u001b[0;34m=\u001b[0m \u001b[0mitem_from_zerodim\u001b[0m\u001b[0;34m(\u001b[0m\u001b[0mother\u001b[0m\u001b[0;34m)\u001b[0m\u001b[0;34m\u001b[0m\u001b[0;34m\u001b[0m\u001b[0m\n\u001b[1;32m     68\u001b[0m \u001b[0;34m\u001b[0m\u001b[0m\n\u001b[0;32m---> 69\u001b[0;31m         \u001b[0;32mreturn\u001b[0m \u001b[0mmethod\u001b[0m\u001b[0;34m(\u001b[0m\u001b[0mself\u001b[0m\u001b[0;34m,\u001b[0m \u001b[0mother\u001b[0m\u001b[0;34m)\u001b[0m\u001b[0;34m\u001b[0m\u001b[0;34m\u001b[0m\u001b[0m\n\u001b[0m\u001b[1;32m     70\u001b[0m \u001b[0;34m\u001b[0m\u001b[0m\n\u001b[1;32m     71\u001b[0m     \u001b[0;32mreturn\u001b[0m \u001b[0mnew_method\u001b[0m\u001b[0;34m\u001b[0m\u001b[0;34m\u001b[0m\u001b[0m\n",
      "\u001b[0;32m/opt/conda/envs/tcc_env/lib/python3.7/site-packages/pandas/core/arraylike.py\u001b[0m in \u001b[0;36m__radd__\u001b[0;34m(self, other)\u001b[0m\n\u001b[1;32m     94\u001b[0m     \u001b[0;34m@\u001b[0m\u001b[0munpack_zerodim_and_defer\u001b[0m\u001b[0;34m(\u001b[0m\u001b[0;34m\"__radd__\"\u001b[0m\u001b[0;34m)\u001b[0m\u001b[0;34m\u001b[0m\u001b[0;34m\u001b[0m\u001b[0m\n\u001b[1;32m     95\u001b[0m     \u001b[0;32mdef\u001b[0m \u001b[0m__radd__\u001b[0m\u001b[0;34m(\u001b[0m\u001b[0mself\u001b[0m\u001b[0;34m,\u001b[0m \u001b[0mother\u001b[0m\u001b[0;34m)\u001b[0m\u001b[0;34m:\u001b[0m\u001b[0;34m\u001b[0m\u001b[0;34m\u001b[0m\u001b[0m\n\u001b[0;32m---> 96\u001b[0;31m         \u001b[0;32mreturn\u001b[0m \u001b[0mself\u001b[0m\u001b[0;34m.\u001b[0m\u001b[0m_arith_method\u001b[0m\u001b[0;34m(\u001b[0m\u001b[0mother\u001b[0m\u001b[0;34m,\u001b[0m \u001b[0mroperator\u001b[0m\u001b[0;34m.\u001b[0m\u001b[0mradd\u001b[0m\u001b[0;34m)\u001b[0m\u001b[0;34m\u001b[0m\u001b[0;34m\u001b[0m\u001b[0m\n\u001b[0m\u001b[1;32m     97\u001b[0m \u001b[0;34m\u001b[0m\u001b[0m\n\u001b[1;32m     98\u001b[0m     \u001b[0;34m@\u001b[0m\u001b[0munpack_zerodim_and_defer\u001b[0m\u001b[0;34m(\u001b[0m\u001b[0;34m\"__sub__\"\u001b[0m\u001b[0;34m)\u001b[0m\u001b[0;34m\u001b[0m\u001b[0;34m\u001b[0m\u001b[0m\n",
      "\u001b[0;32m/opt/conda/envs/tcc_env/lib/python3.7/site-packages/pandas/core/frame.py\u001b[0m in \u001b[0;36m_arith_method\u001b[0;34m(self, other, op)\u001b[0m\n\u001b[1;32m   6862\u001b[0m         \u001b[0mother\u001b[0m \u001b[0;34m=\u001b[0m \u001b[0mops\u001b[0m\u001b[0;34m.\u001b[0m\u001b[0mmaybe_prepare_scalar_for_op\u001b[0m\u001b[0;34m(\u001b[0m\u001b[0mother\u001b[0m\u001b[0;34m,\u001b[0m \u001b[0;34m(\u001b[0m\u001b[0mself\u001b[0m\u001b[0;34m.\u001b[0m\u001b[0mshape\u001b[0m\u001b[0;34m[\u001b[0m\u001b[0maxis\u001b[0m\u001b[0;34m]\u001b[0m\u001b[0;34m,\u001b[0m\u001b[0;34m)\u001b[0m\u001b[0;34m)\u001b[0m\u001b[0;34m\u001b[0m\u001b[0;34m\u001b[0m\u001b[0m\n\u001b[1;32m   6863\u001b[0m \u001b[0;34m\u001b[0m\u001b[0m\n\u001b[0;32m-> 6864\u001b[0;31m         \u001b[0mself\u001b[0m\u001b[0;34m,\u001b[0m \u001b[0mother\u001b[0m \u001b[0;34m=\u001b[0m \u001b[0mops\u001b[0m\u001b[0;34m.\u001b[0m\u001b[0malign_method_FRAME\u001b[0m\u001b[0;34m(\u001b[0m\u001b[0mself\u001b[0m\u001b[0;34m,\u001b[0m \u001b[0mother\u001b[0m\u001b[0;34m,\u001b[0m \u001b[0maxis\u001b[0m\u001b[0;34m,\u001b[0m \u001b[0mflex\u001b[0m\u001b[0;34m=\u001b[0m\u001b[0;32mTrue\u001b[0m\u001b[0;34m,\u001b[0m \u001b[0mlevel\u001b[0m\u001b[0;34m=\u001b[0m\u001b[0;32mNone\u001b[0m\u001b[0;34m)\u001b[0m\u001b[0;34m\u001b[0m\u001b[0;34m\u001b[0m\u001b[0m\n\u001b[0m\u001b[1;32m   6865\u001b[0m \u001b[0;34m\u001b[0m\u001b[0m\n\u001b[1;32m   6866\u001b[0m         \u001b[0mnew_data\u001b[0m \u001b[0;34m=\u001b[0m \u001b[0mself\u001b[0m\u001b[0;34m.\u001b[0m\u001b[0m_dispatch_frame_op\u001b[0m\u001b[0;34m(\u001b[0m\u001b[0mother\u001b[0m\u001b[0;34m,\u001b[0m \u001b[0mop\u001b[0m\u001b[0;34m,\u001b[0m \u001b[0maxis\u001b[0m\u001b[0;34m=\u001b[0m\u001b[0maxis\u001b[0m\u001b[0;34m)\u001b[0m\u001b[0;34m\u001b[0m\u001b[0;34m\u001b[0m\u001b[0m\n",
      "\u001b[0;32m/opt/conda/envs/tcc_env/lib/python3.7/site-packages/pandas/core/ops/__init__.py\u001b[0m in \u001b[0;36malign_method_FRAME\u001b[0;34m(left, right, axis, flex, level)\u001b[0m\n\u001b[1;32m    279\u001b[0m             )\n\u001b[1;32m    280\u001b[0m         \u001b[0;31m# GH17901\u001b[0m\u001b[0;34m\u001b[0m\u001b[0;34m\u001b[0m\u001b[0;34m\u001b[0m\u001b[0m\n\u001b[0;32m--> 281\u001b[0;31m         \u001b[0mright\u001b[0m \u001b[0;34m=\u001b[0m \u001b[0mto_series\u001b[0m\u001b[0;34m(\u001b[0m\u001b[0mright\u001b[0m\u001b[0;34m)\u001b[0m\u001b[0;34m\u001b[0m\u001b[0;34m\u001b[0m\u001b[0m\n\u001b[0m\u001b[1;32m    282\u001b[0m \u001b[0;34m\u001b[0m\u001b[0m\n\u001b[1;32m    283\u001b[0m     \u001b[0;32mif\u001b[0m \u001b[0mflex\u001b[0m \u001b[0;32mis\u001b[0m \u001b[0;32mnot\u001b[0m \u001b[0;32mNone\u001b[0m \u001b[0;32mand\u001b[0m \u001b[0misinstance\u001b[0m\u001b[0;34m(\u001b[0m\u001b[0mright\u001b[0m\u001b[0;34m,\u001b[0m \u001b[0mABCDataFrame\u001b[0m\u001b[0;34m)\u001b[0m\u001b[0;34m:\u001b[0m\u001b[0;34m\u001b[0m\u001b[0;34m\u001b[0m\u001b[0m\n",
      "\u001b[0;32m/opt/conda/envs/tcc_env/lib/python3.7/site-packages/pandas/core/ops/__init__.py\u001b[0m in \u001b[0;36mto_series\u001b[0;34m(right)\u001b[0m\n\u001b[1;32m    237\u001b[0m             \u001b[0;32mif\u001b[0m \u001b[0mlen\u001b[0m\u001b[0;34m(\u001b[0m\u001b[0mleft\u001b[0m\u001b[0;34m.\u001b[0m\u001b[0mcolumns\u001b[0m\u001b[0;34m)\u001b[0m \u001b[0;34m!=\u001b[0m \u001b[0mlen\u001b[0m\u001b[0;34m(\u001b[0m\u001b[0mright\u001b[0m\u001b[0;34m)\u001b[0m\u001b[0;34m:\u001b[0m\u001b[0;34m\u001b[0m\u001b[0;34m\u001b[0m\u001b[0m\n\u001b[1;32m    238\u001b[0m                 raise ValueError(\n\u001b[0;32m--> 239\u001b[0;31m                     \u001b[0mmsg\u001b[0m\u001b[0;34m.\u001b[0m\u001b[0mformat\u001b[0m\u001b[0;34m(\u001b[0m\u001b[0mreq_len\u001b[0m\u001b[0;34m=\u001b[0m\u001b[0mlen\u001b[0m\u001b[0;34m(\u001b[0m\u001b[0mleft\u001b[0m\u001b[0;34m.\u001b[0m\u001b[0mcolumns\u001b[0m\u001b[0;34m)\u001b[0m\u001b[0;34m,\u001b[0m \u001b[0mgiven_len\u001b[0m\u001b[0;34m=\u001b[0m\u001b[0mlen\u001b[0m\u001b[0;34m(\u001b[0m\u001b[0mright\u001b[0m\u001b[0;34m)\u001b[0m\u001b[0;34m)\u001b[0m\u001b[0;34m\u001b[0m\u001b[0;34m\u001b[0m\u001b[0m\n\u001b[0m\u001b[1;32m    240\u001b[0m                 )\n\u001b[1;32m    241\u001b[0m             \u001b[0mright\u001b[0m \u001b[0;34m=\u001b[0m \u001b[0mleft\u001b[0m\u001b[0;34m.\u001b[0m\u001b[0m_constructor_sliced\u001b[0m\u001b[0;34m(\u001b[0m\u001b[0mright\u001b[0m\u001b[0;34m,\u001b[0m \u001b[0mindex\u001b[0m\u001b[0;34m=\u001b[0m\u001b[0mleft\u001b[0m\u001b[0;34m.\u001b[0m\u001b[0mcolumns\u001b[0m\u001b[0;34m)\u001b[0m\u001b[0;34m\u001b[0m\u001b[0;34m\u001b[0m\u001b[0m\n",
      "\u001b[0;31mValueError\u001b[0m: Unable to coerce to Series, length must be 4: given 0"
     ]
    }
   ],
   "source": [
    "%run utils/compras_gov.py\n",
    "\n",
    "# ! rm /dados_fonte/compras_gov/uasgs.json\n",
    "\n",
    "dfUasg = iterate_json(\n",
    "    ids = dfOrgaos.codigo,\n",
    "    url = 'licitacoes/v1/uasgs.json?id_orgao=',\n",
    "    nome = 'uasgs'\n",
    ")\n",
    "\n",
    "# arrUasg = []\n",
    "# res = requests.get(url_compras_gov + 'licitacoes/v1/uasgs.json?id_orgao=16000', verify=True).json()\n",
    "# arrUasg = arrUasg + res['_embedded']['uasgs']\n",
    "# dfUasg = pd.DataFrame(arrUasg)\n",
    "\n",
    "dfUasg.head()"
   ]
  },
  {
   "cell_type": "markdown",
   "metadata": {
    "id": "H5-dHCmHYtaK"
   },
   "source": [
    "### Licitações por UASG"
   ]
  },
  {
   "cell_type": "markdown",
   "metadata": {
    "id": "GTSuZJRe-DxE"
   },
   "source": [
    "#### metadados"
   ]
  },
  {
   "cell_type": "markdown",
   "metadata": {
    "id": "tkNaLOJK4g0A"
   },
   "source": [
    "- codigo_do_item_no_catalogo -\tCódigo do Item no Catálogo.\n",
    "- data_abertura_proposta -\tData de abertura da proposta.\n",
    "- data_entrega_edital -\tData de Entrega do Edital.\n",
    "- data_entrega_proposta -\tData de entrega da proposta.\n",
    "- data_publicacao -\tData da publicação da licitação.\n",
    "- endereco_entrega_edital -\tEndereço de Entrega do Edital.\n",
    "- funcao_responsavel -\tFunção do Responsável pela Licitação.\n",
    "- identificador -\tIdentificador da Licitação.\n",
    "- informacoes_gerais -\tInformações Gerais.\n",
    "- modalidade -\tCódigo da Modalidade da Licitação.\n",
    "- nome_responsavel -\tNome do Responsável pela Licitação.\n",
    "- numero_aviso -\tNúmero do Aviso da Licitação.\n",
    "- numero_item_licitacao -\tNúmero Item Licitação.\n",
    "- numero_itens -\tNúmero de Itens.\n",
    "- numero_processo -\tNúmero do Processo.\n",
    "- objeto -\tObjeto da Licitação.\n",
    "- situacao_aviso -\tSituação do aviso.\n",
    "- tipo_pregao -\tTipo do Pregão.\n",
    "- tipo_recurso -\tTipo do Recurso.\n",
    "- uasg -\tCódigo da UASG.\n",
    "\n",
    "http://compras.dados.gov.br/docs/licitacoes/v1/licitacoes.html "
   ]
  },
  {
   "cell_type": "markdown",
   "metadata": {
    "id": "WxKZneBe-HKs"
   },
   "source": [
    "#### execucao"
   ]
  },
  {
   "cell_type": "code",
   "execution_count": null,
   "metadata": {
    "collapsed": false,
    "id": "lG-62TXYhwbq"
   },
   "outputs": [
    {
     "name": "stdout",
     "output_type": "stream",
     "text": [
      "http://compras.dados.gov.br/licitacoes/v1/licitacoes.json?uasg=100001\n"
     ]
    }
   ],
   "source": [
    "jsonLicitacoes = []\n",
    "offset = 0\n",
    "urlLicitacoes = url_compras_gov + 'licitacoes/v1/licitacoes.json'\n",
    "# res = requests.get(url, verify=True, stream=True)\n",
    "# print('------------------- total registros encontrados: ' + str(res['count']) )\n",
    "\n",
    "for i in dfUasg.id:\n",
    "    url = f'{urlLicitacoes}?uasg={i}'\n",
    "    print(url)\n",
    "    res = requests.get(url, verify=True, stream=True)\n",
    "    res = res.json()\n",
    "#     print(res)\n",
    "    print('------------------- total registros encontrados: ' + str(res['count']) )\n",
    "#     jsonLicitacoes = jsonLicitacoes + res['_embedded']['licitacoes']\n",
    "    \n",
    "#     while(res['count'] > 0):\n",
    "#         offset = offset + 500\n",
    "#         url = f'{url}&offset={offset}'\n",
    "#         print(url)\n",
    "#         res = requests.get(url, verify=True, stream=True).txt\n",
    "#         print(res)\n",
    "#         print('-------------------total registros encontrados offset: ' + str(res['count']))\n",
    "#         jsonLicitacoes = jsonLicitacoes + res['_embedded']['licitacoes']\n",
    "    \n",
    "                "
   ]
  },
  {
   "cell_type": "code",
   "execution_count": 28,
   "metadata": {
    "colab": {
     "base_uri": "https://localhost:8080/"
    },
    "collapsed": false,
    "id": "VMB6nfyFYV9e",
    "outputId": "3fc17401-cc33-47b1-dcd2-bcebc0fa8693"
   },
   "outputs": [
    {
     "ename": "NameError",
     "evalue": "name 'dfLicitacoes' is not defined",
     "output_type": "error",
     "traceback": [
      "\u001b[0;31m---------------------------------------------------------------------------\u001b[0m",
      "\u001b[0;31mNameError\u001b[0m                                 Traceback (most recent call last)",
      "\u001b[0;32m<ipython-input-28-5d7e0cc5adcc>\u001b[0m in \u001b[0;36m<module>\u001b[0;34m\u001b[0m\n\u001b[0;32m----> 1\u001b[0;31m \u001b[0mdfLicitacoes\u001b[0m\u001b[0;34m.\u001b[0m\u001b[0mhead\u001b[0m\u001b[0;34m(\u001b[0m\u001b[0;34m)\u001b[0m\u001b[0;34m\u001b[0m\u001b[0;34m\u001b[0m\u001b[0m\n\u001b[0m",
      "\u001b[0;31mNameError\u001b[0m: name 'dfLicitacoes' is not defined"
     ]
    }
   ],
   "source": [
    "dfLicitacoes.head()\n",
    "#         print(res['_embedded']['uasg'])\n",
    "#         jsonLicitacoes = jsonLicitacoes + res['_embedded']['licitacoes']\n",
    "\n",
    "# dfLicitacoes = pd.DataFrame(jsonLicitacoes)"
   ]
  },
  {
   "cell_type": "code",
   "execution_count": null,
   "metadata": {
    "collapsed": true,
    "id": "YbjmW7W3gS-t"
   },
   "outputs": [],
   "source": []
  },
  {
   "cell_type": "code",
   "execution_count": null,
   "metadata": {
    "collapsed": true,
    "id": "EUv1I2emMKkn"
   },
   "outputs": [],
   "source": [
    "\n",
    "json['_embedded']['licitacoes']\n",
    "\n"
   ]
  },
  {
   "cell_type": "code",
   "execution_count": null,
   "metadata": {
    "collapsed": true,
    "id": "CHkSuG1FIP6t"
   },
   "outputs": [],
   "source": [
    "# http://compras.dados.gov.br/contratos/v1/contratos.html?uasg=20001&order_by=data_assinatura&order=desc"
   ]
  },
  {
   "cell_type": "markdown",
   "metadata": {
    "id": "Z7xpDA0lQYj6"
   },
   "source": [
    "### Modalidades de licitações"
   ]
  },
  {
   "cell_type": "code",
   "execution_count": null,
   "metadata": {
    "collapsed": true,
    "id": "rNfzp-FuQmPc"
   },
   "outputs": [],
   "source": [
    "url = 'http://compras.dados.gov.br/licitacoes/v1/modalidades_licitacao.json'\n",
    "json = requests.get(url, verify=True).json()"
   ]
  },
  {
   "cell_type": "code",
   "execution_count": null,
   "metadata": {
    "collapsed": true,
    "id": "tWCL8n5eRsAu"
   },
   "outputs": [],
   "source": [
    "dfModalidades = pd.DataFrame(json['_embedded']['ModalidadesLicitacao'])"
   ]
  },
  {
   "cell_type": "code",
   "execution_count": null,
   "metadata": {
    "colab": {
     "base_uri": "https://localhost:8080/",
     "height": 419
    },
    "collapsed": true,
    "id": "QWJ7_XvARyZ4",
    "outputId": "2b4ab0a5-e91d-46ff-f057-1015c9721b07"
   },
   "outputs": [],
   "source": [
    "pd.set_option('display.max_colwidth', None)\n",
    "dfModalidades[['codigo','descricao']]"
   ]
  },
  {
   "cell_type": "markdown",
   "metadata": {
    "id": "UXGZKzB5YtaO"
   },
   "source": [
    "### Grupos relacionados a TIC"
   ]
  },
  {
   "cell_type": "code",
   "execution_count": null,
   "metadata": {
    "collapsed": true,
    "id": "4W6gXFaYYtaO"
   },
   "outputs": [],
   "source": [
    "json = requests.get('http://compras.dados.gov.br/servicos/v1/grupos.json?descricao=TIC', verify=True).json()\n",
    "\n",
    "obj = json['_embedded']['grupos']\n",
    "\n",
    "df = pd.DataFrame(obj)\n",
    "dfGrupos = df[['codigo','descricao']]\n",
    "dfGrupos = dfGrupos[dfGrupos.codigo.isin([162,163,164,165,166,168,171,172,173,174,800])]"
   ]
  },
  {
   "cell_type": "code",
   "execution_count": null,
   "metadata": {
    "collapsed": true,
    "id": "5NU-qAL4YtaQ"
   },
   "outputs": [],
   "source": [
    "dfGrupos"
   ]
  },
  {
   "cell_type": "markdown",
   "metadata": {
    "id": "YZq52mckIJBv"
   },
   "source": [
    "### Contratos vinculados as licitacões"
   ]
  },
  {
   "cell_type": "code",
   "execution_count": null,
   "metadata": {
    "collapsed": true,
    "id": "hERWihxvF5SI"
   },
   "outputs": [],
   "source": []
  },
  {
   "cell_type": "markdown",
   "metadata": {
    "id": "N6w8DMxFFxSI"
   },
   "source": [
    "### Despesas por Órgão - compras.dados.gov"
   ]
  }
 ],
 "metadata": {
  "colab": {
   "collapsed_sections": [
    "S6t-e9qhYtZ5",
    "41J3-Q_MIs_l",
    "ySCOLGyn88bh",
    "rgtxMeUhYtaF",
    "Ja7mvlMK92V8",
    "N6w8DMxFFxSI",
    "GTSuZJRe-DxE"
   ],
   "name": "comprasgov.ipynb",
   "provenance": []
  },
  "interpreter": {
   "hash": "a8b97659b4ac75e34b08cbb60f741f6fa1b09294bdc88c93c69cd97922217a91"
  },
  "kernelspec": {
   "display_name": "tcc_env",
   "language": "python",
   "name": "tcc_env"
  },
  "language_info": {
   "codemirror_mode": {
    "name": "ipython",
    "version": 3
   },
   "file_extension": ".py",
   "mimetype": "text/x-python",
   "name": "python",
   "nbconvert_exporter": "python",
   "pygments_lexer": "ipython3",
   "version": "3.7.9-final"
  }
 },
 "nbformat": 4,
 "nbformat_minor": 1
}