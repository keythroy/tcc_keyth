{
 "cells": [
  {
   "cell_type": "markdown",
   "metadata": {
    "id": "XY7QJm0FZ5yh"
   },
   "source": [
    "# Descrição do Problema"
   ]
  },
  {
   "cell_type": "markdown",
   "metadata": {
    "id": "80EAd0BTaDfC"
   },
   "source": [
    "Na investigação de fraudes em licitações, existem muitos desafios. Diferentes ações fraudulentas, pouco diferentes das não fraudulentas. Informações descentralizada entre os dados abertos governamentais e dados abertos do setor privado.  "
   ]
  },
  {
   "cell_type": "markdown",
   "metadata": {
    "id": "If-2305zbVBf"
   },
   "source": [
    "# Objetivos"
   ]
  },
  {
   "cell_type": "markdown",
   "metadata": {
    "id": "9k22NsK1bZqc"
   },
   "source": [
    "* investigar dados de licitações do GDF relacionados a prestação de serviço de TIC entre os anos de 2014 e 2020\n",
    "\n",
    "* Identificar empresas inedonias que continuam disputando licitações\n",
    "* Identificar empresas diferentes com mesmo corpo diretor\n",
    "* Investigar contratos com dispensa de licitação realizados com essas empresas\n"
   ]
  },
  {
   "cell_type": "markdown",
   "metadata": {
    "id": "Ho_AWlWkd1yH"
   },
   "source": [
    "# Recursos"
   ]
  },
  {
   "cell_type": "markdown",
   "metadata": {
    "id": "WNWZdVeGd5Kz"
   },
   "source": [
    "\n",
    "- Trello\n",
    "- Google Colab\n",
    "- Python"
   ]
  },
  {
   "cell_type": "code",
   "execution_count": 2,
   "metadata": {
    "colab": {
     "base_uri": "https://localhost:8080/"
    },
    "collapsed": false,
    "id": "03273bcOYtZu",
    "outputId": "296068bd-cf54-44de-e912-8406d7a11634"
   },
   "outputs": [],
   "source": [
    "# Bibliotecas Py\n",
    "\n",
    "import numpy as np\n",
    "import itertools\n",
    "import shutil\n",
    "from google.colab import drive\n",
    "from google.colab import files\n",
    "\n",
    "# drive.mount('drive')"
   ]
  },
  {
   "cell_type": "markdown",
   "metadata": {
    "id": "S6t-e9qhYtZ5"
   },
   "source": [
    "# Fontes de dados"
   ]
  },
  {
   "cell_type": "markdown",
   "metadata": {
    "id": "NsPBxZgDePQp"
   },
   "source": [
    "Fontes de dados utilizadas:\n",
    "\n",
    "* SIASG - Sistema Integrado de Administração de Serviços Gerais, Ministério da Economia\n",
    " \n",
    "* CEIS - Cadastro Nacional de Empresas Inidôneas e Suspensas, Controladoria Gera da União - CGU\n",
    "\n",
    "* CNEP - Cadastro Nacional de Empresas Punidas,\n",
    "\n",
    "  - Portal de Compras Governamentais\n",
    "    - [API](http://compras.dados.gov.br/)\n",
    "    - [Dicionário de dados](http://compras.dados.gov.br/docs/lista-metodos-licitacoes.html)\n",
    "\n",
    "  - Portal da Transparência\n",
    "    - [API](http://api.portaldatransparencia.gov.br/)\n",
    "    - [Documentação](#)\n",
    "    - [Dicionário de dados](http://www.portaldatransparencia.gov.br/pagina-interna/603389-dicionario-de-dados-licitacoes)\n",
    "\n",
    "\n",
    "* Projeto de compartilhamento de dados do ICIJ - [Datashare](https://datashare.icij.org/) "
   ]
  },
  {
   "cell_type": "markdown",
   "metadata": {
    "id": "fhWi9bg28M2E"
   },
   "source": [
    "#### ORGÃOS DO DF > UASG > LICITACOES > DESPESAS > FORNECEDORES"
   ]
  },
  {
   "cell_type": "markdown",
   "metadata": {
    "id": "41J3-Q_MIs_l"
   },
   "source": [
    "# Descricão dos dados - Transparência"
   ]
  },
  {
   "cell_type": "markdown",
   "metadata": {
    "id": "MxjG26QLI-XC"
   },
   "source": [
    "### Órgãos do DF"
   ]
  },
  {
   "cell_type": "markdown",
   "metadata": {
    "id": "6sxSIUOMfy7s"
   },
   "source": [
    "### Despesas por órgão"
   ]
  },
  {
   "cell_type": "code",
   "execution_count": null,
   "metadata": {
    "collapsed": true,
    "id": "wb4WkO8ch-PT"
   },
   "outputs": [],
   "source": [
    "chave = {'chave-api-dados':'b07b2db3a9698e2a350ef9d36d0eb280'}"
   ]
  },
  {
   "cell_type": "code",
   "execution_count": null,
   "metadata": {
    "collapsed": true,
    "id": "-EdbsKg2gOvd"
   },
   "outputs": [],
   "source": [
    "json = []\n",
    "\n",
    "for ano in range(2015, 2020):\n",
    "  for i in orgaos:\n",
    "    url= f'http://api.portaldatransparencia.gov.br/api-de-dados/despesas/por-orgao?ano={ano}&orgao={i}&pagina=1'\n",
    "    # print(url)\n",
    "    res = requests.get(url, verify=True,headers=chave).json()\n",
    "    json = json + res\n",
    "  \n",
    "json = list(filter(None, json))\n",
    "dfOrgaosDespesas = pd.DataFrame(json) "
   ]
  },
  {
   "cell_type": "code",
   "execution_count": null,
   "metadata": {
    "colab": {
     "base_uri": "https://localhost:8080/"
    },
    "collapsed": true,
    "id": "E6k19LtR3eXW",
    "outputId": "1aefe950-6269-4f73-8467-1a9dccfabed3"
   },
   "outputs": [],
   "source": [
    "json[0]"
   ]
  },
  {
   "cell_type": "code",
   "execution_count": null,
   "metadata": {
    "colab": {
     "base_uri": "https://localhost:8080/",
     "height": 150
    },
    "collapsed": true,
    "id": "0NPR4ZRsDhc_",
    "outputId": "a30a9aba-3fb4-42ec-96ef-20b8f93ff63e"
   },
   "outputs": [],
   "source": [
    "dfOrgaosDespesas.head()"
   ]
  },
  {
   "cell_type": "markdown",
   "metadata": {
    "id": "V4uy_XQF-hk1"
   },
   "source": [
    "# Descrição dos dados - compras.gov.br"
   ]
  },
  {
   "cell_type": "markdown",
   "metadata": {
    "id": "XY-UekLoOgSB"
   },
   "source": [
    "ORGÃOS DO DF > UASG > LICITACOES > CONTRATOS > MODALIDADES \n",
    "\n",
    "PREGAO > RESULTADO > FORNECEDOR > ITENS > VALORES LANCES > PROPOSTAS > EVENTOS\n"
   ]
  },
  {
   "cell_type": "code",
   "execution_count": 2,
   "metadata": {},
   "outputs": [],
   "source": [
    "%run utils/compras_gov.py"
   ]
  },
  {
   "cell_type": "markdown",
   "metadata": {
    "id": "8JnA4C4eYtZ9"
   },
   "source": [
    "### Órgãos do DF"
   ]
  },
  {
   "source": [
    "#### metadados"
   ],
   "cell_type": "markdown",
   "metadata": {}
  },
  {
   "cell_type": "markdown",
   "metadata": {
    "id": "h1pz-5GEiBOL"
   },
   "source": [
    "- ativo\t- Se o órgão está ativo.\n",
    "- codigo - Código do órgão\n",
    "- codigo_tipo_adm\t- Código do tipo da administração do órgão\n",
    "- codigo_tipo_esfera\t- Tipo da esfera do órgão\n",
    "- codigo_tipo_poder\t- Código do tipo do poder do órgão\n",
    "- nome\t- Nome do órgão.\n",
    "\n",
    "http://compras.dados.gov.br/licitacoes/doc/orgao/54000"
   ]
  },
  {
   "cell_type": "markdown",
   "metadata": {
    "id": "Nob4fkHg9YwQ"
   },
   "source": [
    "#### execução"
   ]
  },
  {
   "cell_type": "code",
   "execution_count": 14,
   "metadata": {
    "collapsed": false,
    "id": "X0pC_29VYtZ_",
    "tags": []
   },
   "outputs": [
    {
     "output_type": "stream",
     "name": "stdout",
     "text": "----------------- Criando dataframe \n\n----------------- Requisição API\n\n---- http://compras.dados.gov.br/licitacoes/v1/orgaos.json?nome=Distrito+federal\n\n----------------- gerando arquivo: dados_fonte/compras_gov/Orgaos.json\n\n--- formato da resposta: <class 'dict'>\n\n----------------- Formato JSON válido \n\n----------------- total de Orgaos econtrados: 5 \n\n"
    },
    {
     "output_type": "execute_result",
     "data": {
      "text/plain": "   codigo                                           nome  codigo_tipo_adm  \\\n0   16000  JUSTICA DO DISTRITO FEDERAL E DOS TERRITORIOS                1   \n1   25915       FUNDO CONSTITUCIONAL DO DISTRITO FEDERAL                7   \n2   38537    CONSELHO DE ARQ. E URB. DO DISTRITO FEDERAL                3   \n3   91001              GOVERNO DO DISTRITO FEDERAL - DAR                1   \n4   97400                               DISTRITO FEDERAL               11   \n\n  codigo_tipo_esfera  codigo_tipo_poder  ativo  \\\n0            Federal                  2   True   \n1            Federal                  0   True   \n2            Federal                  0   True   \n3          Municipal                  0   True   \n4           Estadual                  0   True   \n\n                                              _links  \n0  {'self': {'href': '/licitacoes/id/orgao/16000'...  \n1  {'self': {'href': '/licitacoes/id/orgao/25915'...  \n2  {'self': {'href': '/licitacoes/id/orgao/38537'...  \n3  {'self': {'href': '/licitacoes/id/orgao/91001'...  \n4  {'self': {'href': '/licitacoes/id/orgao/97400'...  ",
      "text/html": "<div>\n<style scoped>\n    .dataframe tbody tr th:only-of-type {\n        vertical-align: middle;\n    }\n\n    .dataframe tbody tr th {\n        vertical-align: top;\n    }\n\n    .dataframe thead th {\n        text-align: right;\n    }\n</style>\n<table border=\"1\" class=\"dataframe\">\n  <thead>\n    <tr style=\"text-align: right;\">\n      <th></th>\n      <th>codigo</th>\n      <th>nome</th>\n      <th>codigo_tipo_adm</th>\n      <th>codigo_tipo_esfera</th>\n      <th>codigo_tipo_poder</th>\n      <th>ativo</th>\n      <th>_links</th>\n    </tr>\n  </thead>\n  <tbody>\n    <tr>\n      <th>0</th>\n      <td>16000</td>\n      <td>JUSTICA DO DISTRITO FEDERAL E DOS TERRITORIOS</td>\n      <td>1</td>\n      <td>Federal</td>\n      <td>2</td>\n      <td>True</td>\n      <td>{'self': {'href': '/licitacoes/id/orgao/16000'...</td>\n    </tr>\n    <tr>\n      <th>1</th>\n      <td>25915</td>\n      <td>FUNDO CONSTITUCIONAL DO DISTRITO FEDERAL</td>\n      <td>7</td>\n      <td>Federal</td>\n      <td>0</td>\n      <td>True</td>\n      <td>{'self': {'href': '/licitacoes/id/orgao/25915'...</td>\n    </tr>\n    <tr>\n      <th>2</th>\n      <td>38537</td>\n      <td>CONSELHO DE ARQ. E URB. DO DISTRITO FEDERAL</td>\n      <td>3</td>\n      <td>Federal</td>\n      <td>0</td>\n      <td>True</td>\n      <td>{'self': {'href': '/licitacoes/id/orgao/38537'...</td>\n    </tr>\n    <tr>\n      <th>3</th>\n      <td>91001</td>\n      <td>GOVERNO DO DISTRITO FEDERAL - DAR</td>\n      <td>1</td>\n      <td>Municipal</td>\n      <td>0</td>\n      <td>True</td>\n      <td>{'self': {'href': '/licitacoes/id/orgao/91001'...</td>\n    </tr>\n    <tr>\n      <th>4</th>\n      <td>97400</td>\n      <td>DISTRITO FEDERAL</td>\n      <td>11</td>\n      <td>Estadual</td>\n      <td>0</td>\n      <td>True</td>\n      <td>{'self': {'href': '/licitacoes/id/orgao/97400'...</td>\n    </tr>\n  </tbody>\n</table>\n</div>"
     },
     "metadata": {},
     "execution_count": 14
    }
   ],
   "source": [
    "\n",
    "%run utils/compras_gov.py\n",
    "\n",
    "dfOrgaos = pd.DataFrame(\n",
    "    cria_dataframe(\n",
    "        url='licitacoes/v1/orgaos.json?nome=Distrito+federal',\n",
    "        nome='Orgaos'\n",
    "    )\n",
    ")\n",
    "\n",
    "dfOrgaos.head()"
   ]
  },
  {
   "cell_type": "markdown",
   "metadata": {
    "id": "rgtxMeUhYtaF"
   },
   "source": [
    "### UASGs relacionadas e Órgãos Superiores"
   ]
  },
  {
   "cell_type": "markdown",
   "metadata": {
    "id": "Ja7mvlMK92V8"
   },
   "source": [
    "#### metadados"
   ]
  },
  {
   "cell_type": "markdown",
   "metadata": {
    "id": "J-Pfusf1k2BM"
   },
   "source": [
    "UASG: Unidade Administrativa de Serviços Gerais do SIASG\n",
    "\n",
    "- ativo -\tSe a UASG está ativa.\n",
    "- cep -\tCEP da UASG.\n",
    "- cnpj -\tCNPJ da UASG\n",
    "- id -\tIdentificador único da UASG no SICAF.\n",
    "- id_municipio -\tIdentificador único do município da UASG.\n",
    "- id_orgao -\tIdentificador único do órgão no SICAF.\n",
    "- id_orgao_superior -\tIdentificador único do órgão Superior.\n",
    "- nome -\tNome da UASG.\n",
    "- total_fornecedores_cadastrados -\tQuantidade total de fornecedores cadastrados na UASG.\n",
    "- total_fornecedores_recadastrados -\tQuantidade total de fornecedores recadastrados, no novo SICAF, na UASG.\n",
    "- unidade_cadastradora -\tUnidade cadastradora.\n",
    "\n",
    "http://compras.dados.gov.br/docs/licitacoes/v1/uasgs.html"
   ]
  },
  {
   "cell_type": "markdown",
   "metadata": {
    "id": "YSJNDUUd98i2"
   },
   "source": [
    "#### execucao"
   ]
  },
  {
   "cell_type": "code",
   "execution_count": 15,
   "metadata": {
    "colab": {
     "base_uri": "https://localhost:8080/"
    },
    "collapsed": false,
    "id": "PiW05dzvYtaG",
    "outputId": "70037eb7-1a74-4a0c-8968-3073aa60eb82",
    "tags": []
   },
   "outputs": [
    {
     "output_type": "stream",
     "name": "stdout",
     "text": "----------------- Criando dataframe \n\n----------------- Requisição API\n\n---- http://compras.dados.gov.br/licitacoes/v1/uasgs.json?id_orgao=16000\n\n--- formato da resposta: <class 'dict'>\n\n----------------- Formato JSON válido \n\n----------------- total de uasgs econtrados: 22 \n\n<class 'list'>\n----------------- Requisição API\n\n---- http://compras.dados.gov.br/licitacoes/v1/uasgs.json?id_orgao=25915\n\n--- formato da resposta: <class 'dict'>\n\n----------------- Formato JSON válido \n\n----------------- total de uasgs econtrados: 9 \n\n<class 'list'>\n----------------- Requisição API\n\n---- http://compras.dados.gov.br/licitacoes/v1/uasgs.json?id_orgao=38537\n\n--- formato da resposta: <class 'dict'>\n\n----------------- Formato JSON válido \n\n----------------- total de uasgs econtrados: 1 \n\n<class 'list'>\n----------------- Requisição API\n\n---- http://compras.dados.gov.br/licitacoes/v1/uasgs.json?id_orgao=91001\n\n--- formato da resposta: <class 'dict'>\n\n----------------- Formato JSON válido \n\n----------------- total de uasgs econtrados: 11 \n\n<class 'list'>\n----------------- Requisição API\n\n---- http://compras.dados.gov.br/licitacoes/v1/uasgs.json?id_orgao=97400\n\n--- formato da resposta: <class 'dict'>\n\n----------------- Formato JSON válido \n\n----------------- total de uasgs econtrados: 117 \n\n<class 'list'>\n----------------- gerando arquivo: dados_fonte/compras_gov/uasgs.json\n\n"
    },
    {
     "output_type": "execute_result",
     "data": {
      "text/plain": "       id                                     nome  id_orgao  \\\n0  100001  TRIBUNAL DE JUSTICA DO DISTRITO FEDERAL     16000   \n1  100002              2A.CIRCUNSCRICAO JUDICIARIA     16000   \n2  100003              1A.CIRCUNSCRICAO JUDICIARIA     16000   \n3  100004              2A.CIRCUNSCRICAO JUDICIARIA     16000   \n4  100005              3A.CIRCUNSCRICAO JUDICIARIA     16000   \n\n   id_orgao_superior  id_municipio            cnpj       cep  \\\n0              16000       97012.0  00531954000120  70094900   \n1              16000        3018.0  00531954002840  69350000   \n2              16000           NaN            None  68900000   \n3              16000           NaN            None  68930000   \n4              16000           NaN            None  68950000   \n\n   total_fornecedores_cadastrados  total_fornecedores_recadastrados  \\\n0                               0                                 0   \n1                               0                                 0   \n2                               0                                 0   \n3                               0                                 0   \n4                               0                                 0   \n\n   unidade_cadastradora  ativo  \\\n0                  True   True   \n1                 False   True   \n2                 False  False   \n3                 False  False   \n4                 False  False   \n\n                                              _links  \n0  {'self': {'href': '/licitacoes/id/uasg/100001'...  \n1  {'self': {'href': '/licitacoes/id/uasg/100002'...  \n2  {'self': {'href': '/licitacoes/id/uasg/100003'...  \n3  {'self': {'href': '/licitacoes/id/uasg/100004'...  \n4  {'self': {'href': '/licitacoes/id/uasg/100005'...  ",
      "text/html": "<div>\n<style scoped>\n    .dataframe tbody tr th:only-of-type {\n        vertical-align: middle;\n    }\n\n    .dataframe tbody tr th {\n        vertical-align: top;\n    }\n\n    .dataframe thead th {\n        text-align: right;\n    }\n</style>\n<table border=\"1\" class=\"dataframe\">\n  <thead>\n    <tr style=\"text-align: right;\">\n      <th></th>\n      <th>id</th>\n      <th>nome</th>\n      <th>id_orgao</th>\n      <th>id_orgao_superior</th>\n      <th>id_municipio</th>\n      <th>cnpj</th>\n      <th>cep</th>\n      <th>total_fornecedores_cadastrados</th>\n      <th>total_fornecedores_recadastrados</th>\n      <th>unidade_cadastradora</th>\n      <th>ativo</th>\n      <th>_links</th>\n    </tr>\n  </thead>\n  <tbody>\n    <tr>\n      <th>0</th>\n      <td>100001</td>\n      <td>TRIBUNAL DE JUSTICA DO DISTRITO FEDERAL</td>\n      <td>16000</td>\n      <td>16000</td>\n      <td>97012.0</td>\n      <td>00531954000120</td>\n      <td>70094900</td>\n      <td>0</td>\n      <td>0</td>\n      <td>True</td>\n      <td>True</td>\n      <td>{'self': {'href': '/licitacoes/id/uasg/100001'...</td>\n    </tr>\n    <tr>\n      <th>1</th>\n      <td>100002</td>\n      <td>2A.CIRCUNSCRICAO JUDICIARIA</td>\n      <td>16000</td>\n      <td>16000</td>\n      <td>3018.0</td>\n      <td>00531954002840</td>\n      <td>69350000</td>\n      <td>0</td>\n      <td>0</td>\n      <td>False</td>\n      <td>True</td>\n      <td>{'self': {'href': '/licitacoes/id/uasg/100002'...</td>\n    </tr>\n    <tr>\n      <th>2</th>\n      <td>100003</td>\n      <td>1A.CIRCUNSCRICAO JUDICIARIA</td>\n      <td>16000</td>\n      <td>16000</td>\n      <td>NaN</td>\n      <td>None</td>\n      <td>68900000</td>\n      <td>0</td>\n      <td>0</td>\n      <td>False</td>\n      <td>False</td>\n      <td>{'self': {'href': '/licitacoes/id/uasg/100003'...</td>\n    </tr>\n    <tr>\n      <th>3</th>\n      <td>100004</td>\n      <td>2A.CIRCUNSCRICAO JUDICIARIA</td>\n      <td>16000</td>\n      <td>16000</td>\n      <td>NaN</td>\n      <td>None</td>\n      <td>68930000</td>\n      <td>0</td>\n      <td>0</td>\n      <td>False</td>\n      <td>False</td>\n      <td>{'self': {'href': '/licitacoes/id/uasg/100004'...</td>\n    </tr>\n    <tr>\n      <th>4</th>\n      <td>100005</td>\n      <td>3A.CIRCUNSCRICAO JUDICIARIA</td>\n      <td>16000</td>\n      <td>16000</td>\n      <td>NaN</td>\n      <td>None</td>\n      <td>68950000</td>\n      <td>0</td>\n      <td>0</td>\n      <td>False</td>\n      <td>False</td>\n      <td>{'self': {'href': '/licitacoes/id/uasg/100005'...</td>\n    </tr>\n  </tbody>\n</table>\n</div>"
     },
     "metadata": {},
     "execution_count": 15
    }
   ],
   "source": [
    "%run utils/compras_gov.py\n",
    "\n",
    "# ! rm /dados_fonte/compras_gov/uasgs.json\n",
    "\n",
    "dfUasg = cria_dataframe(\n",
    "    ids = dfOrgaos.codigo,\n",
    "    url = 'licitacoes/v1/uasgs.json?id_orgao=',\n",
    "    nome = 'uasgs',\n",
    "    iterate = True\n",
    ")\n",
    "\n",
    "\n",
    "dfUasg.head()"
   ]
  },
  {
   "cell_type": "markdown",
   "metadata": {
    "id": "H5-dHCmHYtaK"
   },
   "source": [
    "### Licitações por UASG"
   ]
  },
  {
   "cell_type": "markdown",
   "metadata": {
    "id": "GTSuZJRe-DxE"
   },
   "source": [
    "#### metadados"
   ]
  },
  {
   "cell_type": "markdown",
   "metadata": {
    "id": "tkNaLOJK4g0A"
   },
   "source": [
    "- codigo_do_item_no_catalogo -\tCódigo do Item no Catálogo.\n",
    "- data_abertura_proposta -\tData de abertura da proposta.\n",
    "- data_entrega_edital -\tData de Entrega do Edital.\n",
    "- data_entrega_proposta -\tData de entrega da proposta.\n",
    "- data_publicacao -\tData da publicação da licitação.\n",
    "- endereco_entrega_edital -\tEndereço de Entrega do Edital.\n",
    "- funcao_responsavel -\tFunção do Responsável pela Licitação.\n",
    "- identificador -\tIdentificador da Licitação.\n",
    "- informacoes_gerais -\tInformações Gerais.\n",
    "- modalidade -\tCódigo da Modalidade da Licitação.\n",
    "- nome_responsavel -\tNome do Responsável pela Licitação.\n",
    "- numero_aviso -\tNúmero do Aviso da Licitação.\n",
    "- numero_item_licitacao -\tNúmero Item Licitação.\n",
    "- numero_itens -\tNúmero de Itens.\n",
    "- numero_processo -\tNúmero do Processo.\n",
    "- objeto -\tObjeto da Licitação.\n",
    "- situacao_aviso -\tSituação do aviso.\n",
    "- tipo_pregao -\tTipo do Pregão.\n",
    "- tipo_recurso -\tTipo do Recurso.\n",
    "- uasg -\tCódigo da UASG.\n",
    "\n",
    "http://compras.dados.gov.br/docs/licitacoes/v1/licitacoes.html "
   ]
  },
  {
   "cell_type": "markdown",
   "metadata": {
    "id": "WxKZneBe-HKs"
   },
   "source": [
    "#### execucao"
   ]
  },
  {
   "cell_type": "code",
   "execution_count": 20,
   "metadata": {
    "collapsed": false,
    "id": "lG-62TXYhwbq",
    "tags": []
   },
   "outputs": [
    {
     "output_type": "stream",
     "name": "stdout",
     "text": "----------------- Criando dataframe: licitacoes \n\n----------------- Requisição API\n\n---- http://compras.dados.gov.br/licitacoes/v1/licitacoes.html?uasg=100001\n\n"
    },
    {
     "output_type": "error",
     "ename": "KeyboardInterrupt",
     "evalue": "",
     "traceback": [
      "\u001b[0;31m---------------------------------------------------------------------------\u001b[0m",
      "\u001b[0;31mKeyboardInterrupt\u001b[0m                         Traceback (most recent call last)",
      "\u001b[0;32m/tmp/ipykernel_23728/3401504229.py\u001b[0m in \u001b[0;36m<module>\u001b[0;34m\u001b[0m\n\u001b[1;32m      6\u001b[0m     \u001b[0murl\u001b[0m \u001b[0;34m=\u001b[0m \u001b[0;34m'licitacoes/v1/licitacoes.html?uasg='\u001b[0m\u001b[0;34m,\u001b[0m\u001b[0;34m\u001b[0m\u001b[0;34m\u001b[0m\u001b[0m\n\u001b[1;32m      7\u001b[0m     \u001b[0mnome\u001b[0m \u001b[0;34m=\u001b[0m \u001b[0;34m'licitacoes'\u001b[0m\u001b[0;34m,\u001b[0m\u001b[0;34m\u001b[0m\u001b[0;34m\u001b[0m\u001b[0m\n\u001b[0;32m----> 8\u001b[0;31m     \u001b[0miterate\u001b[0m \u001b[0;34m=\u001b[0m \u001b[0;32mTrue\u001b[0m\u001b[0;34m\u001b[0m\u001b[0;34m\u001b[0m\u001b[0m\n\u001b[0m\u001b[1;32m      9\u001b[0m )\n\u001b[1;32m     10\u001b[0m \u001b[0;34m\u001b[0m\u001b[0m\n",
      "\u001b[0;32m~/project/tcc_keyth/utils/compras_gov.py\u001b[0m in \u001b[0;36mcria_dataframe\u001b[0;34m(**kwargs)\u001b[0m\n\u001b[1;32m     69\u001b[0m             res = get_response(\n\u001b[1;32m     70\u001b[0m                 \u001b[0murl\u001b[0m \u001b[0;34m=\u001b[0m \u001b[0murl_b\u001b[0m\u001b[0;34m,\u001b[0m\u001b[0;34m\u001b[0m\u001b[0;34m\u001b[0m\u001b[0m\n\u001b[0;32m---> 71\u001b[0;31m                 \u001b[0mnome\u001b[0m \u001b[0;34m=\u001b[0m \u001b[0mnome\u001b[0m\u001b[0;34m\u001b[0m\u001b[0;34m\u001b[0m\u001b[0m\n\u001b[0m\u001b[1;32m     72\u001b[0m             )\n\u001b[1;32m     73\u001b[0m             \u001b[0mprint\u001b[0m\u001b[0;34m(\u001b[0m\u001b[0mtype\u001b[0m\u001b[0;34m(\u001b[0m\u001b[0mres\u001b[0m\u001b[0;34m)\u001b[0m\u001b[0;34m)\u001b[0m\u001b[0;34m\u001b[0m\u001b[0;34m\u001b[0m\u001b[0m\n",
      "\u001b[0;32m~/project/tcc_keyth/utils/compras_gov.py\u001b[0m in \u001b[0;36mget_response\u001b[0;34m(**kwargs)\u001b[0m\n\u001b[1;32m     30\u001b[0m     \u001b[0mnome\u001b[0m \u001b[0;34m=\u001b[0m \u001b[0mkwargs\u001b[0m\u001b[0;34m.\u001b[0m\u001b[0mget\u001b[0m\u001b[0;34m(\u001b[0m\u001b[0;34m'nome'\u001b[0m\u001b[0;34m)\u001b[0m\u001b[0;34m\u001b[0m\u001b[0;34m\u001b[0m\u001b[0m\n\u001b[1;32m     31\u001b[0m \u001b[0;34m\u001b[0m\u001b[0m\n\u001b[0;32m---> 32\u001b[0;31m     \u001b[0mres\u001b[0m \u001b[0;34m=\u001b[0m \u001b[0mrequests\u001b[0m\u001b[0;34m.\u001b[0m\u001b[0mget\u001b[0m\u001b[0;34m(\u001b[0m\u001b[0murl\u001b[0m\u001b[0;34m,\u001b[0m \u001b[0mverify\u001b[0m\u001b[0;34m=\u001b[0m\u001b[0;32mTrue\u001b[0m\u001b[0;34m)\u001b[0m\u001b[0;34m.\u001b[0m\u001b[0mjson\u001b[0m\u001b[0;34m(\u001b[0m\u001b[0;34m)\u001b[0m\u001b[0;34m\u001b[0m\u001b[0;34m\u001b[0m\u001b[0m\n\u001b[0m\u001b[1;32m     33\u001b[0m     \u001b[0mprint\u001b[0m\u001b[0;34m(\u001b[0m\u001b[0;34m\"--- Status da resposta: \"\u001b[0m \u001b[0;34m+\u001b[0m \u001b[0mstr\u001b[0m\u001b[0;34m(\u001b[0m\u001b[0mtype\u001b[0m\u001b[0;34m(\u001b[0m\u001b[0mres\u001b[0m\u001b[0;34m)\u001b[0m\u001b[0;34m)\u001b[0m \u001b[0;34m+\u001b[0m \u001b[0;34m\"\\n\"\u001b[0m\u001b[0;34m)\u001b[0m\u001b[0;34m\u001b[0m\u001b[0;34m\u001b[0m\u001b[0m\n\u001b[1;32m     34\u001b[0m     \u001b[0mprint\u001b[0m\u001b[0;34m(\u001b[0m\u001b[0;34m\"--- formato da resposta: \"\u001b[0m \u001b[0;34m+\u001b[0m \u001b[0mstr\u001b[0m\u001b[0;34m(\u001b[0m\u001b[0mtype\u001b[0m\u001b[0;34m(\u001b[0m\u001b[0mres\u001b[0m\u001b[0;34m)\u001b[0m\u001b[0;34m)\u001b[0m \u001b[0;34m+\u001b[0m \u001b[0;34m\"\\n\"\u001b[0m\u001b[0;34m)\u001b[0m\u001b[0;34m\u001b[0m\u001b[0;34m\u001b[0m\u001b[0m\n",
      "\u001b[0;32m/opt/conda/envs/tcc_env/lib/python3.7/site-packages/requests/api.py\u001b[0m in \u001b[0;36mget\u001b[0;34m(url, params, **kwargs)\u001b[0m\n\u001b[1;32m     74\u001b[0m \u001b[0;34m\u001b[0m\u001b[0m\n\u001b[1;32m     75\u001b[0m     \u001b[0mkwargs\u001b[0m\u001b[0;34m.\u001b[0m\u001b[0msetdefault\u001b[0m\u001b[0;34m(\u001b[0m\u001b[0;34m'allow_redirects'\u001b[0m\u001b[0;34m,\u001b[0m \u001b[0;32mTrue\u001b[0m\u001b[0;34m)\u001b[0m\u001b[0;34m\u001b[0m\u001b[0;34m\u001b[0m\u001b[0m\n\u001b[0;32m---> 76\u001b[0;31m     \u001b[0;32mreturn\u001b[0m \u001b[0mrequest\u001b[0m\u001b[0;34m(\u001b[0m\u001b[0;34m'get'\u001b[0m\u001b[0;34m,\u001b[0m \u001b[0murl\u001b[0m\u001b[0;34m,\u001b[0m \u001b[0mparams\u001b[0m\u001b[0;34m=\u001b[0m\u001b[0mparams\u001b[0m\u001b[0;34m,\u001b[0m \u001b[0;34m**\u001b[0m\u001b[0mkwargs\u001b[0m\u001b[0;34m)\u001b[0m\u001b[0;34m\u001b[0m\u001b[0;34m\u001b[0m\u001b[0m\n\u001b[0m\u001b[1;32m     77\u001b[0m \u001b[0;34m\u001b[0m\u001b[0m\n\u001b[1;32m     78\u001b[0m \u001b[0;34m\u001b[0m\u001b[0m\n",
      "\u001b[0;32m/opt/conda/envs/tcc_env/lib/python3.7/site-packages/requests/api.py\u001b[0m in \u001b[0;36mrequest\u001b[0;34m(method, url, **kwargs)\u001b[0m\n\u001b[1;32m     59\u001b[0m     \u001b[0;31m# cases, and look like a memory leak in others.\u001b[0m\u001b[0;34m\u001b[0m\u001b[0;34m\u001b[0m\u001b[0;34m\u001b[0m\u001b[0m\n\u001b[1;32m     60\u001b[0m     \u001b[0;32mwith\u001b[0m \u001b[0msessions\u001b[0m\u001b[0;34m.\u001b[0m\u001b[0mSession\u001b[0m\u001b[0;34m(\u001b[0m\u001b[0;34m)\u001b[0m \u001b[0;32mas\u001b[0m \u001b[0msession\u001b[0m\u001b[0;34m:\u001b[0m\u001b[0;34m\u001b[0m\u001b[0;34m\u001b[0m\u001b[0m\n\u001b[0;32m---> 61\u001b[0;31m         \u001b[0;32mreturn\u001b[0m \u001b[0msession\u001b[0m\u001b[0;34m.\u001b[0m\u001b[0mrequest\u001b[0m\u001b[0;34m(\u001b[0m\u001b[0mmethod\u001b[0m\u001b[0;34m=\u001b[0m\u001b[0mmethod\u001b[0m\u001b[0;34m,\u001b[0m \u001b[0murl\u001b[0m\u001b[0;34m=\u001b[0m\u001b[0murl\u001b[0m\u001b[0;34m,\u001b[0m \u001b[0;34m**\u001b[0m\u001b[0mkwargs\u001b[0m\u001b[0;34m)\u001b[0m\u001b[0;34m\u001b[0m\u001b[0;34m\u001b[0m\u001b[0m\n\u001b[0m\u001b[1;32m     62\u001b[0m \u001b[0;34m\u001b[0m\u001b[0m\n\u001b[1;32m     63\u001b[0m \u001b[0;34m\u001b[0m\u001b[0m\n",
      "\u001b[0;32m/opt/conda/envs/tcc_env/lib/python3.7/site-packages/requests/sessions.py\u001b[0m in \u001b[0;36mrequest\u001b[0;34m(self, method, url, params, data, headers, cookies, files, auth, timeout, allow_redirects, proxies, hooks, stream, verify, cert, json)\u001b[0m\n\u001b[1;32m    540\u001b[0m         }\n\u001b[1;32m    541\u001b[0m         \u001b[0msend_kwargs\u001b[0m\u001b[0;34m.\u001b[0m\u001b[0mupdate\u001b[0m\u001b[0;34m(\u001b[0m\u001b[0msettings\u001b[0m\u001b[0;34m)\u001b[0m\u001b[0;34m\u001b[0m\u001b[0;34m\u001b[0m\u001b[0m\n\u001b[0;32m--> 542\u001b[0;31m         \u001b[0mresp\u001b[0m \u001b[0;34m=\u001b[0m \u001b[0mself\u001b[0m\u001b[0;34m.\u001b[0m\u001b[0msend\u001b[0m\u001b[0;34m(\u001b[0m\u001b[0mprep\u001b[0m\u001b[0;34m,\u001b[0m \u001b[0;34m**\u001b[0m\u001b[0msend_kwargs\u001b[0m\u001b[0;34m)\u001b[0m\u001b[0;34m\u001b[0m\u001b[0;34m\u001b[0m\u001b[0m\n\u001b[0m\u001b[1;32m    543\u001b[0m \u001b[0;34m\u001b[0m\u001b[0m\n\u001b[1;32m    544\u001b[0m         \u001b[0;32mreturn\u001b[0m \u001b[0mresp\u001b[0m\u001b[0;34m\u001b[0m\u001b[0;34m\u001b[0m\u001b[0m\n",
      "\u001b[0;32m/opt/conda/envs/tcc_env/lib/python3.7/site-packages/requests/sessions.py\u001b[0m in \u001b[0;36msend\u001b[0;34m(self, request, **kwargs)\u001b[0m\n\u001b[1;32m    653\u001b[0m \u001b[0;34m\u001b[0m\u001b[0m\n\u001b[1;32m    654\u001b[0m         \u001b[0;31m# Send the request\u001b[0m\u001b[0;34m\u001b[0m\u001b[0;34m\u001b[0m\u001b[0;34m\u001b[0m\u001b[0m\n\u001b[0;32m--> 655\u001b[0;31m         \u001b[0mr\u001b[0m \u001b[0;34m=\u001b[0m \u001b[0madapter\u001b[0m\u001b[0;34m.\u001b[0m\u001b[0msend\u001b[0m\u001b[0;34m(\u001b[0m\u001b[0mrequest\u001b[0m\u001b[0;34m,\u001b[0m \u001b[0;34m**\u001b[0m\u001b[0mkwargs\u001b[0m\u001b[0;34m)\u001b[0m\u001b[0;34m\u001b[0m\u001b[0;34m\u001b[0m\u001b[0m\n\u001b[0m\u001b[1;32m    656\u001b[0m \u001b[0;34m\u001b[0m\u001b[0m\n\u001b[1;32m    657\u001b[0m         \u001b[0;31m# Total elapsed time of the request (approximately)\u001b[0m\u001b[0;34m\u001b[0m\u001b[0;34m\u001b[0m\u001b[0;34m\u001b[0m\u001b[0m\n",
      "\u001b[0;32m/opt/conda/envs/tcc_env/lib/python3.7/site-packages/requests/adapters.py\u001b[0m in \u001b[0;36msend\u001b[0;34m(self, request, stream, timeout, verify, cert, proxies)\u001b[0m\n\u001b[1;32m    447\u001b[0m                     \u001b[0mdecode_content\u001b[0m\u001b[0;34m=\u001b[0m\u001b[0;32mFalse\u001b[0m\u001b[0;34m,\u001b[0m\u001b[0;34m\u001b[0m\u001b[0;34m\u001b[0m\u001b[0m\n\u001b[1;32m    448\u001b[0m                     \u001b[0mretries\u001b[0m\u001b[0;34m=\u001b[0m\u001b[0mself\u001b[0m\u001b[0;34m.\u001b[0m\u001b[0mmax_retries\u001b[0m\u001b[0;34m,\u001b[0m\u001b[0;34m\u001b[0m\u001b[0;34m\u001b[0m\u001b[0m\n\u001b[0;32m--> 449\u001b[0;31m                     \u001b[0mtimeout\u001b[0m\u001b[0;34m=\u001b[0m\u001b[0mtimeout\u001b[0m\u001b[0;34m\u001b[0m\u001b[0;34m\u001b[0m\u001b[0m\n\u001b[0m\u001b[1;32m    450\u001b[0m                 )\n\u001b[1;32m    451\u001b[0m \u001b[0;34m\u001b[0m\u001b[0m\n",
      "\u001b[0;32m/opt/conda/envs/tcc_env/lib/python3.7/site-packages/urllib3/connectionpool.py\u001b[0m in \u001b[0;36murlopen\u001b[0;34m(self, method, url, body, headers, retries, redirect, assert_same_host, timeout, pool_timeout, release_conn, chunked, body_pos, **response_kw)\u001b[0m\n\u001b[1;32m    704\u001b[0m                 \u001b[0mbody\u001b[0m\u001b[0;34m=\u001b[0m\u001b[0mbody\u001b[0m\u001b[0;34m,\u001b[0m\u001b[0;34m\u001b[0m\u001b[0;34m\u001b[0m\u001b[0m\n\u001b[1;32m    705\u001b[0m                 \u001b[0mheaders\u001b[0m\u001b[0;34m=\u001b[0m\u001b[0mheaders\u001b[0m\u001b[0;34m,\u001b[0m\u001b[0;34m\u001b[0m\u001b[0;34m\u001b[0m\u001b[0m\n\u001b[0;32m--> 706\u001b[0;31m                 \u001b[0mchunked\u001b[0m\u001b[0;34m=\u001b[0m\u001b[0mchunked\u001b[0m\u001b[0;34m,\u001b[0m\u001b[0;34m\u001b[0m\u001b[0;34m\u001b[0m\u001b[0m\n\u001b[0m\u001b[1;32m    707\u001b[0m             )\n\u001b[1;32m    708\u001b[0m \u001b[0;34m\u001b[0m\u001b[0m\n",
      "\u001b[0;32m/opt/conda/envs/tcc_env/lib/python3.7/site-packages/urllib3/connectionpool.py\u001b[0m in \u001b[0;36m_make_request\u001b[0;34m(self, conn, method, url, timeout, chunked, **httplib_request_kw)\u001b[0m\n\u001b[1;32m    443\u001b[0m                     \u001b[0;31m# Python 3 (including for exceptions like SystemExit).\u001b[0m\u001b[0;34m\u001b[0m\u001b[0;34m\u001b[0m\u001b[0;34m\u001b[0m\u001b[0m\n\u001b[1;32m    444\u001b[0m                     \u001b[0;31m# Otherwise it looks like a bug in the code.\u001b[0m\u001b[0;34m\u001b[0m\u001b[0;34m\u001b[0m\u001b[0;34m\u001b[0m\u001b[0m\n\u001b[0;32m--> 445\u001b[0;31m                     \u001b[0msix\u001b[0m\u001b[0;34m.\u001b[0m\u001b[0mraise_from\u001b[0m\u001b[0;34m(\u001b[0m\u001b[0me\u001b[0m\u001b[0;34m,\u001b[0m \u001b[0;32mNone\u001b[0m\u001b[0;34m)\u001b[0m\u001b[0;34m\u001b[0m\u001b[0;34m\u001b[0m\u001b[0m\n\u001b[0m\u001b[1;32m    446\u001b[0m         \u001b[0;32mexcept\u001b[0m \u001b[0;34m(\u001b[0m\u001b[0mSocketTimeout\u001b[0m\u001b[0;34m,\u001b[0m \u001b[0mBaseSSLError\u001b[0m\u001b[0;34m,\u001b[0m \u001b[0mSocketError\u001b[0m\u001b[0;34m)\u001b[0m \u001b[0;32mas\u001b[0m \u001b[0me\u001b[0m\u001b[0;34m:\u001b[0m\u001b[0;34m\u001b[0m\u001b[0;34m\u001b[0m\u001b[0m\n\u001b[1;32m    447\u001b[0m             \u001b[0mself\u001b[0m\u001b[0;34m.\u001b[0m\u001b[0m_raise_timeout\u001b[0m\u001b[0;34m(\u001b[0m\u001b[0merr\u001b[0m\u001b[0;34m=\u001b[0m\u001b[0me\u001b[0m\u001b[0;34m,\u001b[0m \u001b[0murl\u001b[0m\u001b[0;34m=\u001b[0m\u001b[0murl\u001b[0m\u001b[0;34m,\u001b[0m \u001b[0mtimeout_value\u001b[0m\u001b[0;34m=\u001b[0m\u001b[0mread_timeout\u001b[0m\u001b[0;34m)\u001b[0m\u001b[0;34m\u001b[0m\u001b[0;34m\u001b[0m\u001b[0m\n",
      "\u001b[0;32m/opt/conda/envs/tcc_env/lib/python3.7/site-packages/urllib3/packages/six.py\u001b[0m in \u001b[0;36mraise_from\u001b[0;34m(value, from_value)\u001b[0m\n",
      "\u001b[0;32m/opt/conda/envs/tcc_env/lib/python3.7/site-packages/urllib3/connectionpool.py\u001b[0m in \u001b[0;36m_make_request\u001b[0;34m(self, conn, method, url, timeout, chunked, **httplib_request_kw)\u001b[0m\n\u001b[1;32m    438\u001b[0m                 \u001b[0;31m# Python 3\u001b[0m\u001b[0;34m\u001b[0m\u001b[0;34m\u001b[0m\u001b[0;34m\u001b[0m\u001b[0m\n\u001b[1;32m    439\u001b[0m                 \u001b[0;32mtry\u001b[0m\u001b[0;34m:\u001b[0m\u001b[0;34m\u001b[0m\u001b[0;34m\u001b[0m\u001b[0m\n\u001b[0;32m--> 440\u001b[0;31m                     \u001b[0mhttplib_response\u001b[0m \u001b[0;34m=\u001b[0m \u001b[0mconn\u001b[0m\u001b[0;34m.\u001b[0m\u001b[0mgetresponse\u001b[0m\u001b[0;34m(\u001b[0m\u001b[0;34m)\u001b[0m\u001b[0;34m\u001b[0m\u001b[0;34m\u001b[0m\u001b[0m\n\u001b[0m\u001b[1;32m    441\u001b[0m                 \u001b[0;32mexcept\u001b[0m \u001b[0mBaseException\u001b[0m \u001b[0;32mas\u001b[0m \u001b[0me\u001b[0m\u001b[0;34m:\u001b[0m\u001b[0;34m\u001b[0m\u001b[0;34m\u001b[0m\u001b[0m\n\u001b[1;32m    442\u001b[0m                     \u001b[0;31m# Remove the TypeError from the exception chain in\u001b[0m\u001b[0;34m\u001b[0m\u001b[0;34m\u001b[0m\u001b[0;34m\u001b[0m\u001b[0m\n",
      "\u001b[0;32m/opt/conda/envs/tcc_env/lib/python3.7/http/client.py\u001b[0m in \u001b[0;36mgetresponse\u001b[0;34m(self)\u001b[0m\n\u001b[1;32m   1367\u001b[0m         \u001b[0;32mtry\u001b[0m\u001b[0;34m:\u001b[0m\u001b[0;34m\u001b[0m\u001b[0;34m\u001b[0m\u001b[0m\n\u001b[1;32m   1368\u001b[0m             \u001b[0;32mtry\u001b[0m\u001b[0;34m:\u001b[0m\u001b[0;34m\u001b[0m\u001b[0;34m\u001b[0m\u001b[0m\n\u001b[0;32m-> 1369\u001b[0;31m                 \u001b[0mresponse\u001b[0m\u001b[0;34m.\u001b[0m\u001b[0mbegin\u001b[0m\u001b[0;34m(\u001b[0m\u001b[0;34m)\u001b[0m\u001b[0;34m\u001b[0m\u001b[0;34m\u001b[0m\u001b[0m\n\u001b[0m\u001b[1;32m   1370\u001b[0m             \u001b[0;32mexcept\u001b[0m \u001b[0mConnectionError\u001b[0m\u001b[0;34m:\u001b[0m\u001b[0;34m\u001b[0m\u001b[0;34m\u001b[0m\u001b[0m\n\u001b[1;32m   1371\u001b[0m                 \u001b[0mself\u001b[0m\u001b[0;34m.\u001b[0m\u001b[0mclose\u001b[0m\u001b[0;34m(\u001b[0m\u001b[0;34m)\u001b[0m\u001b[0;34m\u001b[0m\u001b[0;34m\u001b[0m\u001b[0m\n",
      "\u001b[0;32m/opt/conda/envs/tcc_env/lib/python3.7/http/client.py\u001b[0m in \u001b[0;36mbegin\u001b[0;34m(self)\u001b[0m\n\u001b[1;32m    308\u001b[0m         \u001b[0;31m# read until we get a non-100 response\u001b[0m\u001b[0;34m\u001b[0m\u001b[0;34m\u001b[0m\u001b[0;34m\u001b[0m\u001b[0m\n\u001b[1;32m    309\u001b[0m         \u001b[0;32mwhile\u001b[0m \u001b[0;32mTrue\u001b[0m\u001b[0;34m:\u001b[0m\u001b[0;34m\u001b[0m\u001b[0;34m\u001b[0m\u001b[0m\n\u001b[0;32m--> 310\u001b[0;31m             \u001b[0mversion\u001b[0m\u001b[0;34m,\u001b[0m \u001b[0mstatus\u001b[0m\u001b[0;34m,\u001b[0m \u001b[0mreason\u001b[0m \u001b[0;34m=\u001b[0m \u001b[0mself\u001b[0m\u001b[0;34m.\u001b[0m\u001b[0m_read_status\u001b[0m\u001b[0;34m(\u001b[0m\u001b[0;34m)\u001b[0m\u001b[0;34m\u001b[0m\u001b[0;34m\u001b[0m\u001b[0m\n\u001b[0m\u001b[1;32m    311\u001b[0m             \u001b[0;32mif\u001b[0m \u001b[0mstatus\u001b[0m \u001b[0;34m!=\u001b[0m \u001b[0mCONTINUE\u001b[0m\u001b[0;34m:\u001b[0m\u001b[0;34m\u001b[0m\u001b[0;34m\u001b[0m\u001b[0m\n\u001b[1;32m    312\u001b[0m                 \u001b[0;32mbreak\u001b[0m\u001b[0;34m\u001b[0m\u001b[0;34m\u001b[0m\u001b[0m\n",
      "\u001b[0;32m/opt/conda/envs/tcc_env/lib/python3.7/http/client.py\u001b[0m in \u001b[0;36m_read_status\u001b[0;34m(self)\u001b[0m\n\u001b[1;32m    269\u001b[0m \u001b[0;34m\u001b[0m\u001b[0m\n\u001b[1;32m    270\u001b[0m     \u001b[0;32mdef\u001b[0m \u001b[0m_read_status\u001b[0m\u001b[0;34m(\u001b[0m\u001b[0mself\u001b[0m\u001b[0;34m)\u001b[0m\u001b[0;34m:\u001b[0m\u001b[0;34m\u001b[0m\u001b[0;34m\u001b[0m\u001b[0m\n\u001b[0;32m--> 271\u001b[0;31m         \u001b[0mline\u001b[0m \u001b[0;34m=\u001b[0m \u001b[0mstr\u001b[0m\u001b[0;34m(\u001b[0m\u001b[0mself\u001b[0m\u001b[0;34m.\u001b[0m\u001b[0mfp\u001b[0m\u001b[0;34m.\u001b[0m\u001b[0mreadline\u001b[0m\u001b[0;34m(\u001b[0m\u001b[0m_MAXLINE\u001b[0m \u001b[0;34m+\u001b[0m \u001b[0;36m1\u001b[0m\u001b[0;34m)\u001b[0m\u001b[0;34m,\u001b[0m \u001b[0;34m\"iso-8859-1\"\u001b[0m\u001b[0;34m)\u001b[0m\u001b[0;34m\u001b[0m\u001b[0;34m\u001b[0m\u001b[0m\n\u001b[0m\u001b[1;32m    272\u001b[0m         \u001b[0;32mif\u001b[0m \u001b[0mlen\u001b[0m\u001b[0;34m(\u001b[0m\u001b[0mline\u001b[0m\u001b[0;34m)\u001b[0m \u001b[0;34m>\u001b[0m \u001b[0m_MAXLINE\u001b[0m\u001b[0;34m:\u001b[0m\u001b[0;34m\u001b[0m\u001b[0;34m\u001b[0m\u001b[0m\n\u001b[1;32m    273\u001b[0m             \u001b[0;32mraise\u001b[0m \u001b[0mLineTooLong\u001b[0m\u001b[0;34m(\u001b[0m\u001b[0;34m\"status line\"\u001b[0m\u001b[0;34m)\u001b[0m\u001b[0;34m\u001b[0m\u001b[0;34m\u001b[0m\u001b[0m\n",
      "\u001b[0;32m/opt/conda/envs/tcc_env/lib/python3.7/socket.py\u001b[0m in \u001b[0;36mreadinto\u001b[0;34m(self, b)\u001b[0m\n\u001b[1;32m    587\u001b[0m         \u001b[0;32mwhile\u001b[0m \u001b[0;32mTrue\u001b[0m\u001b[0;34m:\u001b[0m\u001b[0;34m\u001b[0m\u001b[0;34m\u001b[0m\u001b[0m\n\u001b[1;32m    588\u001b[0m             \u001b[0;32mtry\u001b[0m\u001b[0;34m:\u001b[0m\u001b[0;34m\u001b[0m\u001b[0;34m\u001b[0m\u001b[0m\n\u001b[0;32m--> 589\u001b[0;31m                 \u001b[0;32mreturn\u001b[0m \u001b[0mself\u001b[0m\u001b[0;34m.\u001b[0m\u001b[0m_sock\u001b[0m\u001b[0;34m.\u001b[0m\u001b[0mrecv_into\u001b[0m\u001b[0;34m(\u001b[0m\u001b[0mb\u001b[0m\u001b[0;34m)\u001b[0m\u001b[0;34m\u001b[0m\u001b[0;34m\u001b[0m\u001b[0m\n\u001b[0m\u001b[1;32m    590\u001b[0m             \u001b[0;32mexcept\u001b[0m \u001b[0mtimeout\u001b[0m\u001b[0;34m:\u001b[0m\u001b[0;34m\u001b[0m\u001b[0;34m\u001b[0m\u001b[0m\n\u001b[1;32m    591\u001b[0m                 \u001b[0mself\u001b[0m\u001b[0;34m.\u001b[0m\u001b[0m_timeout_occurred\u001b[0m \u001b[0;34m=\u001b[0m \u001b[0;32mTrue\u001b[0m\u001b[0;34m\u001b[0m\u001b[0;34m\u001b[0m\u001b[0m\n",
      "\u001b[0;31mKeyboardInterrupt\u001b[0m: "
     ]
    }
   ],
   "source": [
    "%run utils/compras_gov.py\n",
    "\n",
    "# ! rm /dados_fonte/compras_gov/uasgs.json\n",
    "dfLicitacoes = cria_dataframe(\n",
    "    ids = dfUasg.id,\n",
    "    url = 'licitacoes/v1/licitacoes.html?uasg=',\n",
    "    nome = 'licitacoes',\n",
    "    iterate = True\n",
    ")\n",
    "\n",
    "dfLicitacoes.head()"
   ]
  },
  {
   "cell_type": "code",
   "execution_count": null,
   "metadata": {
    "collapsed": true,
    "id": "CHkSuG1FIP6t"
   },
   "outputs": [],
   "source": [
    "# http://compras.dados.gov.br/contratos/v1/contratos.html?uasg=20001&order_by=data_assinatura&order=desc"
   ]
  },
  {
   "cell_type": "markdown",
   "metadata": {
    "id": "Z7xpDA0lQYj6"
   },
   "source": [
    "### Modalidades de licitações"
   ]
  },
  {
   "cell_type": "code",
   "execution_count": null,
   "metadata": {
    "collapsed": true,
    "id": "rNfzp-FuQmPc"
   },
   "outputs": [],
   "source": [
    "url = 'http://compras.dados.gov.br/licitacoes/v1/modalidades_licitacao.json'\n",
    "json = requests.get(url, verify=True).json()"
   ]
  },
  {
   "cell_type": "code",
   "execution_count": null,
   "metadata": {
    "collapsed": true,
    "id": "tWCL8n5eRsAu"
   },
   "outputs": [],
   "source": [
    "dfModalidades = pd.DataFrame(json['_embedded']['ModalidadesLicitacao'])"
   ]
  },
  {
   "cell_type": "code",
   "execution_count": null,
   "metadata": {
    "colab": {
     "base_uri": "https://localhost:8080/",
     "height": 419
    },
    "collapsed": true,
    "id": "QWJ7_XvARyZ4",
    "outputId": "2b4ab0a5-e91d-46ff-f057-1015c9721b07"
   },
   "outputs": [],
   "source": [
    "pd.set_option('display.max_colwidth', None)\n",
    "dfModalidades[['codigo','descricao']]"
   ]
  },
  {
   "cell_type": "markdown",
   "metadata": {
    "id": "UXGZKzB5YtaO"
   },
   "source": [
    "### Grupos relacionados a TIC"
   ]
  },
  {
   "cell_type": "code",
   "execution_count": null,
   "metadata": {
    "collapsed": true,
    "id": "4W6gXFaYYtaO"
   },
   "outputs": [],
   "source": [
    "json = requests.get('http://compras.dados.gov.br/servicos/v1/grupos.json?descricao=TIC', verify=True).json()\n",
    "\n",
    "obj = json['_embedded']['grupos']\n",
    "\n",
    "df = pd.DataFrame(obj)\n",
    "dfGrupos = df[['codigo','descricao']]\n",
    "dfGrupos = dfGrupos[dfGrupos.codigo.isin([162,163,164,165,166,168,171,172,173,174,800])]"
   ]
  },
  {
   "cell_type": "code",
   "execution_count": null,
   "metadata": {
    "collapsed": true,
    "id": "5NU-qAL4YtaQ"
   },
   "outputs": [],
   "source": [
    "dfGrupos"
   ]
  },
  {
   "cell_type": "markdown",
   "metadata": {
    "id": "YZq52mckIJBv"
   },
   "source": [
    "### Contratos vinculados as licitacões"
   ]
  },
  {
   "cell_type": "code",
   "execution_count": null,
   "metadata": {
    "collapsed": true,
    "id": "hERWihxvF5SI"
   },
   "outputs": [],
   "source": []
  },
  {
   "cell_type": "markdown",
   "metadata": {
    "id": "N6w8DMxFFxSI"
   },
   "source": [
    "### Despesas por Órgão - compras.dados.gov"
   ]
  }
 ],
 "metadata": {
  "colab": {
   "collapsed_sections": [
    "S6t-e9qhYtZ5",
    "41J3-Q_MIs_l",
    "ySCOLGyn88bh",
    "rgtxMeUhYtaF",
    "Ja7mvlMK92V8",
    "N6w8DMxFFxSI",
    "GTSuZJRe-DxE"
   ],
   "name": "comprasgov.ipynb",
   "provenance": []
  },
  "interpreter": {
   "hash": "a8b97659b4ac75e34b08cbb60f741f6fa1b09294bdc88c93c69cd97922217a91"
  },
  "kernelspec": {
   "display_name": "tcc_env",
   "language": "python",
   "name": "tcc_env"
  },
  "language_info": {
   "codemirror_mode": {
    "name": "ipython",
    "version": 3
   },
   "file_extension": ".py",
   "mimetype": "text/x-python",
   "name": "python",
   "nbconvert_exporter": "python",
   "pygments_lexer": "ipython3",
   "version": "3.7.9-final"
  }
 },
 "nbformat": 4,
 "nbformat_minor": 1
}