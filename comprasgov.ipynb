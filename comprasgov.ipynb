{
 "cells": [
  {
   "cell_type": "markdown",
   "metadata": {
    "id": "XY7QJm0FZ5yh"
   },
   "source": [
    "# Descrição do Problema"
   ]
  },
  {
   "cell_type": "markdown",
   "metadata": {
    "id": "80EAd0BTaDfC"
   },
   "source": [
    "Na investigação de fraudes em licitações, existem muitos desafios. Diferentes ações fraudulentas, pouco diferentes das não fraudulentas. Informações descentralizada entre os dados abertos governamentais e dados abertos do setor privado.  "
   ]
  },
  {
   "cell_type": "markdown",
   "metadata": {
    "id": "If-2305zbVBf"
   },
   "source": [
    "# Objetivos"
   ]
  },
  {
   "cell_type": "markdown",
   "metadata": {
    "id": "9k22NsK1bZqc"
   },
   "source": [
    "* investigar dados de licitações do GDF relacionados a prestação de serviço de TIC entre os anos de 2014 e 2020\n",
    "\n",
    "* Identificar empresas inedonias que continuam disputando licitações\n",
    "* Identificar empresas diferentes com mesmo corpo diretor\n",
    "* Investigar contratos com dispensa de licitação realizados com essas empresas\n"
   ]
  },
  {
   "cell_type": "markdown",
   "metadata": {
    "id": "Ho_AWlWkd1yH"
   },
   "source": [
    "# Recursos"
   ]
  },
  {
   "cell_type": "markdown",
   "metadata": {
    "id": "WNWZdVeGd5Kz"
   },
   "source": [
    "\n",
    "- Trello\n",
    "- Google Colab\n",
    "- Python"
   ]
  },
  {
   "cell_type": "code",
   "execution_count": 1,
   "metadata": {
    "colab": {
     "base_uri": "https://localhost:8080/"
    },
    "collapsed": false,
    "id": "03273bcOYtZu",
    "outputId": "296068bd-cf54-44de-e912-8406d7a11634"
   },
   "outputs": [],
   "source": [
    "# Bibliotecas Py\n",
    "\n",
    "import pandas as pd\n",
    "import requests\n",
    "import json\n",
    "import numpy as np\n",
    "import itertools\n",
    "import shutil\n",
    "from google.colab import drive\n",
    "from google.colab import files\n",
    "\n",
    "# drive.mount('drive')"
   ]
  },
  {
   "cell_type": "markdown",
   "metadata": {
    "id": "S6t-e9qhYtZ5"
   },
   "source": [
    "# Fontes de dados"
   ]
  },
  {
   "cell_type": "markdown",
   "metadata": {
    "id": "NsPBxZgDePQp"
   },
   "source": [
    "Fontes de dados utilizadas:\n",
    "\n",
    "* SIASG - Sistema Integrado de Administração de Serviços Gerais, Ministério da Economia\n",
    " \n",
    "* CEIS - Cadastro Nacional de Empresas Inidôneas e Suspensas, Controladoria Gera da União - CGU\n",
    "\n",
    "* CNEP - Cadastro Nacional de Empresas Punidas,\n",
    "\n",
    "  - Portal de Compras Governamentais\n",
    "    - [API](http://compras.dados.gov.br/)\n",
    "    - [Dicionário de dados](http://compras.dados.gov.br/docs/lista-metodos-licitacoes.html)\n",
    "\n",
    "  - Portal da Transparência\n",
    "    - [API](http://api.portaldatransparencia.gov.br/)\n",
    "    - [Documentação](#)\n",
    "    - [Dicionário de dados](http://www.portaldatransparencia.gov.br/pagina-interna/603389-dicionario-de-dados-licitacoes)\n",
    "\n",
    "\n",
    "* Projeto de compartilhamento de dados do ICIJ - [Datashare](https://datashare.icij.org/) "
   ]
  },
  {
   "cell_type": "markdown",
   "metadata": {
    "id": "fhWi9bg28M2E"
   },
   "source": [
    "#### ORGÃOS DO DF > UASG > LICITACOES > DESPESAS > FORNECEDORES"
   ]
  },
  {
   "cell_type": "markdown",
   "metadata": {
    "id": "41J3-Q_MIs_l"
   },
   "source": [
    "# Descricão dos dados - Transparência"
   ]
  },
  {
   "cell_type": "markdown",
   "metadata": {
    "id": "MxjG26QLI-XC"
   },
   "source": [
    "### Órgãos do DF"
   ]
  },
  {
   "cell_type": "markdown",
   "metadata": {
    "id": "6sxSIUOMfy7s"
   },
   "source": [
    "### Despesas por órgão"
   ]
  },
  {
   "cell_type": "code",
   "execution_count": null,
   "metadata": {
    "collapsed": true,
    "id": "wb4WkO8ch-PT"
   },
   "outputs": [],
   "source": [
    "chave = {'chave-api-dados':'b07b2db3a9698e2a350ef9d36d0eb280'}"
   ]
  },
  {
   "cell_type": "code",
   "execution_count": null,
   "metadata": {
    "collapsed": true,
    "id": "-EdbsKg2gOvd"
   },
   "outputs": [],
   "source": [
    "json = []\n",
    "\n",
    "for ano in range(2015, 2020):\n",
    "  for i in orgaos:\n",
    "    url= f'http://api.portaldatransparencia.gov.br/api-de-dados/despesas/por-orgao?ano={ano}&orgao={i}&pagina=1'\n",
    "    # print(url)\n",
    "    res = requests.get(url, verify=True,headers=chave).json()\n",
    "    json = json + res\n",
    "  \n",
    "json = list(filter(None, json))\n",
    "dfOrgaosDespesas = pd.DataFrame(json) "
   ]
  },
  {
   "cell_type": "code",
   "execution_count": null,
   "metadata": {
    "colab": {
     "base_uri": "https://localhost:8080/"
    },
    "collapsed": true,
    "id": "E6k19LtR3eXW",
    "outputId": "1aefe950-6269-4f73-8467-1a9dccfabed3"
   },
   "outputs": [],
   "source": [
    "json[0]"
   ]
  },
  {
   "cell_type": "code",
   "execution_count": null,
   "metadata": {
    "colab": {
     "base_uri": "https://localhost:8080/",
     "height": 150
    },
    "collapsed": true,
    "id": "0NPR4ZRsDhc_",
    "outputId": "a30a9aba-3fb4-42ec-96ef-20b8f93ff63e"
   },
   "outputs": [],
   "source": [
    "dfOrgaosDespesas.head()"
   ]
  },
  {
   "cell_type": "markdown",
   "metadata": {
    "id": "V4uy_XQF-hk1"
   },
   "source": [
    "# Descrição dos dados - compras.gov.br"
   ]
  },
  {
   "cell_type": "markdown",
   "metadata": {
    "id": "XY-UekLoOgSB"
   },
   "source": [
    "ORGÃOS DO DF > UASG > LICITACOES > CONTRATOS > MODALIDADES \n",
    "\n",
    "PREGAO > RESULTADO > FORNECEDOR > ITENS > VALORES LANCES > PROPOSTAS > EVENTOS\n"
   ]
  },
  {
   "cell_type": "code",
   "execution_count": 3,
   "metadata": {
    "collapsed": true
   },
   "outputs": [],
   "source": [
    "url_compras_gov = 'http://compras.dados.gov.br/'\n",
    "url_dados_fonte = 'dados_fonte/compras_gov/'"
   ]
  },
  {
   "cell_type": "code",
   "execution_count": 16,
   "metadata": {
    "collapsed": false
   },
   "outputs": [
    {
     "output_type": "error",
     "ename": "SyntaxError",
     "evalue": "invalid syntax (2481025615.py, line 9)",
     "traceback": [
      "\u001b[0;36m  File \u001b[0;32m\"/tmp/ipykernel_26412/2481025615.py\"\u001b[0;36m, line \u001b[0;32m9\u001b[0m\n\u001b[0;31m    print(f'----------------- total de { nome } econtrados: { res['count'] } ')\u001b[0m\n\u001b[0m                                                                       ^\u001b[0m\n\u001b[0;31mSyntaxError\u001b[0m\u001b[0;31m:\u001b[0m invalid syntax\n"
     ]
    }
   ],
   "source": [
    "def getJsonComprasGov(**kwargs):\n",
    "    print(url_compras_gov + kwargs.get('url'))\n",
    "\n",
    "    nome = kwargs.get('nome')\n",
    "    url = url_compras_gov + kwargs.get('url')\n",
    "\n",
    "    res = requests.get(url, verify=True).json()\n",
    "    print(f'----------------- status resposta: { res.stat ')\n",
    "    print(f'----------------- total de { nome } econtrados: { res['count'] } ')\n",
    "    # dfRes = pd.DataFrame(res)\n",
    "    # dfRes.to_json(url_dados_fonte + nome + '.json')\n",
    "\n",
    "    return res['_embedded'][nome]\n",
    "\n",
    "\n"
   ]
  },
  {
   "cell_type": "code",
   "execution_count": 13,
   "metadata": {},
   "outputs": [],
   "source": [
    "def iterateJson(**kwargs):\n",
    "    arr = []\n",
    "    \n",
    "    for i in kwargs.get('ids'):\n",
    "        url = kwargs.get('url') + str(i),\n",
    "        res = getJsonComprasGov(\n",
    "            url = kwargs.get('url') + str(i),\n",
    "            nome= kwargs.get('nome')\n",
    "        )\n",
    "        arr = arr + res\n",
    "\n",
    "    return pd.DataFrame(arr)\n",
    "\n",
    "\n",
    "\n",
    "    "
   ]
  },
  {
   "cell_type": "markdown",
   "metadata": {
    "id": "8JnA4C4eYtZ9"
   },
   "source": [
    "### Órgãos do DF"
   ]
  },
  {
   "source": [
    "#### metadados"
   ],
   "cell_type": "markdown",
   "metadata": {}
  },
  {
   "cell_type": "markdown",
   "metadata": {
    "id": "h1pz-5GEiBOL"
   },
   "source": [
    "- ativo\t- Se o órgão está ativo.\n",
    "- codigo - Código do órgão\n",
    "- codigo_tipo_adm\t- Código do tipo da administração do órgão\n",
    "- codigo_tipo_esfera\t- Tipo da esfera do órgão\n",
    "- codigo_tipo_poder\t- Código do tipo do poder do órgão\n",
    "- nome\t- Nome do órgão.\n",
    "\n",
    "http://compras.dados.gov.br/licitacoes/doc/orgao/54000"
   ]
  },
  {
   "cell_type": "markdown",
   "metadata": {
    "id": "Nob4fkHg9YwQ"
   },
   "source": [
    "#### execução"
   ]
  },
  {
   "cell_type": "code",
   "execution_count": 14,
   "metadata": {
    "collapsed": false,
    "id": "X0pC_29VYtZ_",
    "tags": []
   },
   "outputs": [
    {
     "output_type": "stream",
     "name": "stdout",
     "text": "http://compras.dados.gov.br/licitacoes/v1/orgaos.json?nome=Distrito+federal\n"
    },
    {
     "output_type": "error",
     "ename": "TypeError",
     "evalue": "can only concatenate str (not \"int\") to str",
     "traceback": [
      "\u001b[0;31m---------------------------------------------------------------------------\u001b[0m",
      "\u001b[0;31mTypeError\u001b[0m                                 Traceback (most recent call last)",
      "\u001b[0;32m/tmp/ipykernel_26412/4251186626.py\u001b[0m in \u001b[0;36m<module>\u001b[0;34m\u001b[0m\n\u001b[1;32m      2\u001b[0m     getJsonComprasGov(\n\u001b[1;32m      3\u001b[0m         \u001b[0murl\u001b[0m\u001b[0;34m=\u001b[0m\u001b[0;34m'licitacoes/v1/orgaos.json?nome=Distrito+federal'\u001b[0m\u001b[0;34m,\u001b[0m\u001b[0;34m\u001b[0m\u001b[0;34m\u001b[0m\u001b[0m\n\u001b[0;32m----> 4\u001b[0;31m         \u001b[0mnome\u001b[0m\u001b[0;34m=\u001b[0m\u001b[0;34m'Orgaos'\u001b[0m\u001b[0;34m\u001b[0m\u001b[0;34m\u001b[0m\u001b[0m\n\u001b[0m\u001b[1;32m      5\u001b[0m     )\n\u001b[1;32m      6\u001b[0m )\n",
      "\u001b[0;32m/tmp/ipykernel_26412/4243462208.py\u001b[0m in \u001b[0;36mgetJsonComprasGov\u001b[0;34m(**kwargs)\u001b[0m\n\u001b[1;32m      3\u001b[0m \u001b[0;34m\u001b[0m\u001b[0m\n\u001b[1;32m      4\u001b[0m     \u001b[0mres\u001b[0m \u001b[0;34m=\u001b[0m \u001b[0mrequests\u001b[0m\u001b[0;34m.\u001b[0m\u001b[0mget\u001b[0m\u001b[0;34m(\u001b[0m\u001b[0murl_compras_gov\u001b[0m \u001b[0;34m+\u001b[0m \u001b[0mkwargs\u001b[0m\u001b[0;34m.\u001b[0m\u001b[0mget\u001b[0m\u001b[0;34m(\u001b[0m\u001b[0;34m'url'\u001b[0m\u001b[0;34m)\u001b[0m\u001b[0;34m,\u001b[0m \u001b[0mverify\u001b[0m\u001b[0;34m=\u001b[0m\u001b[0;32mTrue\u001b[0m\u001b[0;34m)\u001b[0m\u001b[0;34m.\u001b[0m\u001b[0mjson\u001b[0m\u001b[0;34m(\u001b[0m\u001b[0;34m)\u001b[0m\u001b[0;34m\u001b[0m\u001b[0;34m\u001b[0m\u001b[0m\n\u001b[0;32m----> 5\u001b[0;31m     \u001b[0mprint\u001b[0m\u001b[0;34m(\u001b[0m\u001b[0;34m'----------------- total de '\u001b[0m\u001b[0;34m+\u001b[0m\u001b[0mkwargs\u001b[0m\u001b[0;34m.\u001b[0m\u001b[0mget\u001b[0m\u001b[0;34m(\u001b[0m\u001b[0;34m'nome'\u001b[0m\u001b[0;34m)\u001b[0m\u001b[0;34m+\u001b[0m\u001b[0;34m'econtrados: '\u001b[0m\u001b[0;34m+\u001b[0m\u001b[0mres\u001b[0m\u001b[0;34m[\u001b[0m\u001b[0;34m'count'\u001b[0m\u001b[0;34m]\u001b[0m\u001b[0;34m)\u001b[0m\u001b[0;34m\u001b[0m\u001b[0;34m\u001b[0m\u001b[0m\n\u001b[0m\u001b[1;32m      6\u001b[0m     \u001b[0;31m# dfRes = pd.DataFrame(res)\u001b[0m\u001b[0;34m\u001b[0m\u001b[0;34m\u001b[0m\u001b[0;34m\u001b[0m\u001b[0m\n\u001b[1;32m      7\u001b[0m     \u001b[0;31m# dfRes.to_json(url_dados_fonte + kwargs.get('nome') + '.json')\u001b[0m\u001b[0;34m\u001b[0m\u001b[0;34m\u001b[0m\u001b[0;34m\u001b[0m\u001b[0m\n",
      "\u001b[0;31mTypeError\u001b[0m: can only concatenate str (not \"int\") to str"
     ]
    }
   ],
   "source": [
    "dfOrgaos = pd.DataFrame(\n",
    "    getJsonComprasGov(\n",
    "        url='licitacoes/v1/orgaos.json?nome=Distrito+federal',\n",
    "        nome='Orgaos'\n",
    "    )\n",
    ")\n",
    "\n",
    "dfOrgaos.head()"
   ]
  },
  {
   "cell_type": "markdown",
   "metadata": {
    "id": "rgtxMeUhYtaF"
   },
   "source": [
    "### UASGs relacionadas e Órgãos Superiores"
   ]
  },
  {
   "cell_type": "markdown",
   "metadata": {
    "id": "Ja7mvlMK92V8"
   },
   "source": [
    "#### metadados"
   ]
  },
  {
   "cell_type": "markdown",
   "metadata": {
    "id": "J-Pfusf1k2BM"
   },
   "source": [
    "UASG: Unidade Administrativa de Serviços Gerais do SIASG\n",
    "\n",
    "- ativo -\tSe a UASG está ativa.\n",
    "- cep -\tCEP da UASG.\n",
    "- cnpj -\tCNPJ da UASG\n",
    "- id -\tIdentificador único da UASG no SICAF.\n",
    "- id_municipio -\tIdentificador único do município da UASG.\n",
    "- id_orgao -\tIdentificador único do órgão no SICAF.\n",
    "- id_orgao_superior -\tIdentificador único do órgão Superior.\n",
    "- nome -\tNome da UASG.\n",
    "- total_fornecedores_cadastrados -\tQuantidade total de fornecedores cadastrados na UASG.\n",
    "- total_fornecedores_recadastrados -\tQuantidade total de fornecedores recadastrados, no novo SICAF, na UASG.\n",
    "- unidade_cadastradora -\tUnidade cadastradora.\n",
    "\n",
    "http://compras.dados.gov.br/docs/licitacoes/v1/uasgs.html"
   ]
  },
  {
   "cell_type": "markdown",
   "metadata": {
    "id": "YSJNDUUd98i2"
   },
   "source": [
    "#### execucao"
   ]
  },
  {
   "cell_type": "code",
   "execution_count": 37,
   "metadata": {
    "colab": {
     "base_uri": "https://localhost:8080/"
    },
    "collapsed": false,
    "id": "PiW05dzvYtaG",
    "outputId": "70037eb7-1a74-4a0c-8968-3073aa60eb82",
    "tags": []
   },
   "outputs": [
    {
     "output_type": "execute_result",
     "data": {
      "text/plain": "       id                                     nome  id_orgao  \\\n0  100001  TRIBUNAL DE JUSTICA DO DISTRITO FEDERAL     16000   \n1  100002              2A.CIRCUNSCRICAO JUDICIARIA     16000   \n2  100003              1A.CIRCUNSCRICAO JUDICIARIA     16000   \n3  100004              2A.CIRCUNSCRICAO JUDICIARIA     16000   \n4  100005              3A.CIRCUNSCRICAO JUDICIARIA     16000   \n\n   id_orgao_superior  id_municipio            cnpj       cep  \\\n0              16000       97012.0  00531954000120  70094900   \n1              16000        3018.0  00531954002840  69350000   \n2              16000           NaN            None  68900000   \n3              16000           NaN            None  68930000   \n4              16000           NaN            None  68950000   \n\n   total_fornecedores_cadastrados  total_fornecedores_recadastrados  \\\n0                               0                                 0   \n1                               0                                 0   \n2                               0                                 0   \n3                               0                                 0   \n4                               0                                 0   \n\n   unidade_cadastradora  ativo  \\\n0                  True   True   \n1                 False   True   \n2                 False  False   \n3                 False  False   \n4                 False  False   \n\n                                              _links  \n0  {'self': {'href': '/licitacoes/id/uasg/100001'...  \n1  {'self': {'href': '/licitacoes/id/uasg/100002'...  \n2  {'self': {'href': '/licitacoes/id/uasg/100003'...  \n3  {'self': {'href': '/licitacoes/id/uasg/100004'...  \n4  {'self': {'href': '/licitacoes/id/uasg/100005'...  ",
      "text/html": "<div>\n<style scoped>\n    .dataframe tbody tr th:only-of-type {\n        vertical-align: middle;\n    }\n\n    .dataframe tbody tr th {\n        vertical-align: top;\n    }\n\n    .dataframe thead th {\n        text-align: right;\n    }\n</style>\n<table border=\"1\" class=\"dataframe\">\n  <thead>\n    <tr style=\"text-align: right;\">\n      <th></th>\n      <th>id</th>\n      <th>nome</th>\n      <th>id_orgao</th>\n      <th>id_orgao_superior</th>\n      <th>id_municipio</th>\n      <th>cnpj</th>\n      <th>cep</th>\n      <th>total_fornecedores_cadastrados</th>\n      <th>total_fornecedores_recadastrados</th>\n      <th>unidade_cadastradora</th>\n      <th>ativo</th>\n      <th>_links</th>\n    </tr>\n  </thead>\n  <tbody>\n    <tr>\n      <th>0</th>\n      <td>100001</td>\n      <td>TRIBUNAL DE JUSTICA DO DISTRITO FEDERAL</td>\n      <td>16000</td>\n      <td>16000</td>\n      <td>97012.0</td>\n      <td>00531954000120</td>\n      <td>70094900</td>\n      <td>0</td>\n      <td>0</td>\n      <td>True</td>\n      <td>True</td>\n      <td>{'self': {'href': '/licitacoes/id/uasg/100001'...</td>\n    </tr>\n    <tr>\n      <th>1</th>\n      <td>100002</td>\n      <td>2A.CIRCUNSCRICAO JUDICIARIA</td>\n      <td>16000</td>\n      <td>16000</td>\n      <td>3018.0</td>\n      <td>00531954002840</td>\n      <td>69350000</td>\n      <td>0</td>\n      <td>0</td>\n      <td>False</td>\n      <td>True</td>\n      <td>{'self': {'href': '/licitacoes/id/uasg/100002'...</td>\n    </tr>\n    <tr>\n      <th>2</th>\n      <td>100003</td>\n      <td>1A.CIRCUNSCRICAO JUDICIARIA</td>\n      <td>16000</td>\n      <td>16000</td>\n      <td>NaN</td>\n      <td>None</td>\n      <td>68900000</td>\n      <td>0</td>\n      <td>0</td>\n      <td>False</td>\n      <td>False</td>\n      <td>{'self': {'href': '/licitacoes/id/uasg/100003'...</td>\n    </tr>\n    <tr>\n      <th>3</th>\n      <td>100004</td>\n      <td>2A.CIRCUNSCRICAO JUDICIARIA</td>\n      <td>16000</td>\n      <td>16000</td>\n      <td>NaN</td>\n      <td>None</td>\n      <td>68930000</td>\n      <td>0</td>\n      <td>0</td>\n      <td>False</td>\n      <td>False</td>\n      <td>{'self': {'href': '/licitacoes/id/uasg/100004'...</td>\n    </tr>\n    <tr>\n      <th>4</th>\n      <td>100005</td>\n      <td>3A.CIRCUNSCRICAO JUDICIARIA</td>\n      <td>16000</td>\n      <td>16000</td>\n      <td>NaN</td>\n      <td>None</td>\n      <td>68950000</td>\n      <td>0</td>\n      <td>0</td>\n      <td>False</td>\n      <td>False</td>\n      <td>{'self': {'href': '/licitacoes/id/uasg/100005'...</td>\n    </tr>\n  </tbody>\n</table>\n</div>"
     },
     "metadata": {},
     "execution_count": 37
    }
   ],
   "source": [
    "\n",
    "# dfUasg = iterateJson(\n",
    "#     ids = dfOrgaos.codigo,\n",
    "#     url = 'licitacoes/v1/uasgs.json?id_orgao=',\n",
    "#     nome = 'uasgs'\n",
    "# )\n",
    "\n",
    "arrUasg = []\n",
    "res = requests.get(url_compras_gov + 'licitacoes/v1/uasgs.json?id_orgao=16000', verify=True).json()\n",
    "arrUasg = arrUasg + res['_embedded']['uasgs']\n",
    "dfUasg = pd.DataFrame(arrUasg)\n",
    "\n",
    "dfUasg.head()"
   ]
  },
  {
   "cell_type": "markdown",
   "metadata": {
    "id": "H5-dHCmHYtaK"
   },
   "source": [
    "### Licitações por UASG"
   ]
  },
  {
   "cell_type": "markdown",
   "metadata": {
    "id": "GTSuZJRe-DxE"
   },
   "source": [
    "#### metadados"
   ]
  },
  {
   "cell_type": "markdown",
   "metadata": {
    "id": "tkNaLOJK4g0A"
   },
   "source": [
    "- codigo_do_item_no_catalogo -\tCódigo do Item no Catálogo.\n",
    "- data_abertura_proposta -\tData de abertura da proposta.\n",
    "- data_entrega_edital -\tData de Entrega do Edital.\n",
    "- data_entrega_proposta -\tData de entrega da proposta.\n",
    "- data_publicacao -\tData da publicação da licitação.\n",
    "- endereco_entrega_edital -\tEndereço de Entrega do Edital.\n",
    "- funcao_responsavel -\tFunção do Responsável pela Licitação.\n",
    "- identificador -\tIdentificador da Licitação.\n",
    "- informacoes_gerais -\tInformações Gerais.\n",
    "- modalidade -\tCódigo da Modalidade da Licitação.\n",
    "- nome_responsavel -\tNome do Responsável pela Licitação.\n",
    "- numero_aviso -\tNúmero do Aviso da Licitação.\n",
    "- numero_item_licitacao -\tNúmero Item Licitação.\n",
    "- numero_itens -\tNúmero de Itens.\n",
    "- numero_processo -\tNúmero do Processo.\n",
    "- objeto -\tObjeto da Licitação.\n",
    "- situacao_aviso -\tSituação do aviso.\n",
    "- tipo_pregao -\tTipo do Pregão.\n",
    "- tipo_recurso -\tTipo do Recurso.\n",
    "- uasg -\tCódigo da UASG.\n",
    "\n",
    "http://compras.dados.gov.br/docs/licitacoes/v1/licitacoes.html "
   ]
  },
  {
   "cell_type": "markdown",
   "metadata": {
    "id": "WxKZneBe-HKs"
   },
   "source": [
    "#### execucao"
   ]
  },
  {
   "cell_type": "code",
   "execution_count": null,
   "metadata": {
    "collapsed": false,
    "id": "lG-62TXYhwbq"
   },
   "outputs": [
    {
     "name": "stdout",
     "output_type": "stream",
     "text": [
      "http://compras.dados.gov.br/licitacoes/v1/licitacoes.json?uasg=100001\n"
     ]
    }
   ],
   "source": [
    "jsonLicitacoes = []\n",
    "offset = 0\n",
    "urlLicitacoes = url_compras_gov + 'licitacoes/v1/licitacoes.json'\n",
    "# res = requests.get(url, verify=True, stream=True)\n",
    "# print('------------------- total registros encontrados: ' + str(res['count']) )\n",
    "\n",
    "for i in dfUasg.id:\n",
    "    url = f'{urlLicitacoes}?uasg={i}'\n",
    "    print(url)\n",
    "    res = requests.get(url, verify=True, stream=True)\n",
    "    res = res.json()\n",
    "#     print(res)\n",
    "    print('------------------- total registros encontrados: ' + str(res['count']) )\n",
    "#     jsonLicitacoes = jsonLicitacoes + res['_embedded']['licitacoes']\n",
    "    \n",
    "#     while(res['count'] > 0):\n",
    "#         offset = offset + 500\n",
    "#         url = f'{url}&offset={offset}'\n",
    "#         print(url)\n",
    "#         res = requests.get(url, verify=True, stream=True).txt\n",
    "#         print(res)\n",
    "#         print('-------------------total registros encontrados offset: ' + str(res['count']))\n",
    "#         jsonLicitacoes = jsonLicitacoes + res['_embedded']['licitacoes']\n",
    "    \n",
    "                "
   ]
  },
  {
   "cell_type": "code",
   "execution_count": 28,
   "metadata": {
    "colab": {
     "base_uri": "https://localhost:8080/"
    },
    "collapsed": false,
    "id": "VMB6nfyFYV9e",
    "outputId": "3fc17401-cc33-47b1-dcd2-bcebc0fa8693"
   },
   "outputs": [
    {
     "ename": "NameError",
     "evalue": "name 'dfLicitacoes' is not defined",
     "output_type": "error",
     "traceback": [
      "\u001b[0;31m---------------------------------------------------------------------------\u001b[0m",
      "\u001b[0;31mNameError\u001b[0m                                 Traceback (most recent call last)",
      "\u001b[0;32m<ipython-input-28-5d7e0cc5adcc>\u001b[0m in \u001b[0;36m<module>\u001b[0;34m\u001b[0m\n\u001b[0;32m----> 1\u001b[0;31m \u001b[0mdfLicitacoes\u001b[0m\u001b[0;34m.\u001b[0m\u001b[0mhead\u001b[0m\u001b[0;34m(\u001b[0m\u001b[0;34m)\u001b[0m\u001b[0;34m\u001b[0m\u001b[0;34m\u001b[0m\u001b[0m\n\u001b[0m",
      "\u001b[0;31mNameError\u001b[0m: name 'dfLicitacoes' is not defined"
     ]
    }
   ],
   "source": [
    "dfLicitacoes.head()\n",
    "#         print(res['_embedded']['uasg'])\n",
    "#         jsonLicitacoes = jsonLicitacoes + res['_embedded']['licitacoes']\n",
    "\n",
    "# dfLicitacoes = pd.DataFrame(jsonLicitacoes)"
   ]
  },
  {
   "cell_type": "code",
   "execution_count": null,
   "metadata": {
    "collapsed": true,
    "id": "YbjmW7W3gS-t"
   },
   "outputs": [],
   "source": []
  },
  {
   "cell_type": "code",
   "execution_count": null,
   "metadata": {
    "collapsed": true,
    "id": "EUv1I2emMKkn"
   },
   "outputs": [],
   "source": [
    "\n",
    "json['_embedded']['licitacoes']\n",
    "\n"
   ]
  },
  {
   "cell_type": "code",
   "execution_count": null,
   "metadata": {
    "collapsed": true,
    "id": "CHkSuG1FIP6t"
   },
   "outputs": [],
   "source": [
    "# http://compras.dados.gov.br/contratos/v1/contratos.html?uasg=20001&order_by=data_assinatura&order=desc"
   ]
  },
  {
   "cell_type": "markdown",
   "metadata": {
    "id": "Z7xpDA0lQYj6"
   },
   "source": [
    "### Modalidades de licitações"
   ]
  },
  {
   "cell_type": "code",
   "execution_count": null,
   "metadata": {
    "collapsed": true,
    "id": "rNfzp-FuQmPc"
   },
   "outputs": [],
   "source": [
    "url = 'http://compras.dados.gov.br/licitacoes/v1/modalidades_licitacao.json'\n",
    "json = requests.get(url, verify=True).json()"
   ]
  },
  {
   "cell_type": "code",
   "execution_count": null,
   "metadata": {
    "collapsed": true,
    "id": "tWCL8n5eRsAu"
   },
   "outputs": [],
   "source": [
    "dfModalidades = pd.DataFrame(json['_embedded']['ModalidadesLicitacao'])"
   ]
  },
  {
   "cell_type": "code",
   "execution_count": null,
   "metadata": {
    "colab": {
     "base_uri": "https://localhost:8080/",
     "height": 419
    },
    "collapsed": true,
    "id": "QWJ7_XvARyZ4",
    "outputId": "2b4ab0a5-e91d-46ff-f057-1015c9721b07"
   },
   "outputs": [],
   "source": [
    "pd.set_option('display.max_colwidth', None)\n",
    "dfModalidades[['codigo','descricao']]"
   ]
  },
  {
   "cell_type": "markdown",
   "metadata": {
    "id": "UXGZKzB5YtaO"
   },
   "source": [
    "### Grupos relacionados a TIC"
   ]
  },
  {
   "cell_type": "code",
   "execution_count": null,
   "metadata": {
    "collapsed": true,
    "id": "4W6gXFaYYtaO"
   },
   "outputs": [],
   "source": [
    "json = requests.get('http://compras.dados.gov.br/servicos/v1/grupos.json?descricao=TIC', verify=True).json()\n",
    "\n",
    "obj = json['_embedded']['grupos']\n",
    "\n",
    "df = pd.DataFrame(obj)\n",
    "dfGrupos = df[['codigo','descricao']]\n",
    "dfGrupos = dfGrupos[dfGrupos.codigo.isin([162,163,164,165,166,168,171,172,173,174,800])]"
   ]
  },
  {
   "cell_type": "code",
   "execution_count": null,
   "metadata": {
    "collapsed": true,
    "id": "5NU-qAL4YtaQ"
   },
   "outputs": [],
   "source": [
    "dfGrupos"
   ]
  },
  {
   "cell_type": "markdown",
   "metadata": {
    "id": "YZq52mckIJBv"
   },
   "source": [
    "### Contratos vinculados as licitacões"
   ]
  },
  {
   "cell_type": "code",
   "execution_count": null,
   "metadata": {
    "collapsed": true,
    "id": "hERWihxvF5SI"
   },
   "outputs": [],
   "source": []
  },
  {
   "cell_type": "markdown",
   "metadata": {
    "id": "N6w8DMxFFxSI"
   },
   "source": [
    "### Despesas por Órgão - compras.dados.gov"
   ]
  }
 ],
 "metadata": {
  "colab": {
   "collapsed_sections": [
    "S6t-e9qhYtZ5",
    "41J3-Q_MIs_l",
    "ySCOLGyn88bh",
    "rgtxMeUhYtaF",
    "Ja7mvlMK92V8",
    "N6w8DMxFFxSI",
    "GTSuZJRe-DxE"
   ],
   "name": "comprasgov.ipynb",
   "provenance": []
  },
  "interpreter": {
   "hash": "a8b97659b4ac75e34b08cbb60f741f6fa1b09294bdc88c93c69cd97922217a91"
  },
  "kernelspec": {
   "display_name": "tcc_env",
   "language": "python",
   "name": "tcc_env"
  },
  "language_info": {
   "codemirror_mode": {
    "name": "ipython",
    "version": 3
   },
   "file_extension": ".py",
   "mimetype": "text/x-python",
   "name": "python",
   "nbconvert_exporter": "python",
   "pygments_lexer": "ipython3",
   "version": "3.7.9-final"
  }
 },
 "nbformat": 4,
 "nbformat_minor": 1
}