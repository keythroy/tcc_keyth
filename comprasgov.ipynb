{
 "cells": [
  {
   "cell_type": "markdown",
   "metadata": {
    "id": "XY7QJm0FZ5yh"
   },
   "source": [
    "# Descrição do Problema"
   ]
  },
  {
   "cell_type": "markdown",
   "metadata": {
    "id": "80EAd0BTaDfC"
   },
   "source": [
    "Na investigação de fraudes em licitações, existem muitos desafios. Diferentes ações fraudulentas, pouco diferentes das não fraudulentas. Informações descentralizada entre os dados abertos governamentais e dados abertos do setor privado.  "
   ]
  },
  {
   "cell_type": "markdown",
   "metadata": {
    "id": "If-2305zbVBf"
   },
   "source": [
    "# Objetivos"
   ]
  },
  {
   "cell_type": "markdown",
   "metadata": {
    "id": "9k22NsK1bZqc"
   },
   "source": [
    "* investigar dados de licitações do GDF relacionados a prestação de serviço de TIC entre os anos de 2014 e 2020\n",
    "\n",
    "* Identificar empresas inedonias que continuam disputando licitações\n",
    "* Identificar empresas diferentes com mesmo corpo diretor\n",
    "* Investigar contratos com dispensa de licitação realizados com essas empresas\n"
   ]
  },
  {
   "cell_type": "markdown",
   "metadata": {
    "id": "Ho_AWlWkd1yH"
   },
   "source": [
    "# Recursos"
   ]
  },
  {
   "cell_type": "markdown",
   "metadata": {
    "id": "WNWZdVeGd5Kz"
   },
   "source": [
    "\n",
    "- Trello\n",
    "- Google Colab\n",
    "- Python"
   ]
  },
  {
   "cell_type": "code",
   "execution_count": 2,
   "metadata": {
    "colab": {
     "base_uri": "https://localhost:8080/"
    },
    "collapsed": false,
    "id": "03273bcOYtZu",
    "outputId": "296068bd-cf54-44de-e912-8406d7a11634"
   },
   "outputs": [
    {
     "ename": "ModuleNotFoundError",
     "evalue": "No module named 'pandas'",
     "output_type": "error",
     "traceback": [
      "\u001b[0;31m---------------------------------------------------------------------------\u001b[0m",
      "\u001b[0;31mModuleNotFoundError\u001b[0m                       Traceback (most recent call last)",
      "\u001b[0;32m<ipython-input-2-f00f97afc8db>\u001b[0m in \u001b[0;36m<module>\u001b[0;34m()\u001b[0m\n\u001b[1;32m      1\u001b[0m \u001b[0;31m# Bibliotecas Py\u001b[0m\u001b[0;34m\u001b[0m\u001b[0;34m\u001b[0m\u001b[0;34m\u001b[0m\u001b[0m\n\u001b[1;32m      2\u001b[0m \u001b[0;34m\u001b[0m\u001b[0m\n\u001b[0;32m----> 3\u001b[0;31m \u001b[0;32mimport\u001b[0m \u001b[0mpandas\u001b[0m \u001b[0;32mas\u001b[0m \u001b[0mpd\u001b[0m\u001b[0;34m\u001b[0m\u001b[0;34m\u001b[0m\u001b[0m\n\u001b[0m\u001b[1;32m      4\u001b[0m \u001b[0;32mimport\u001b[0m \u001b[0mrequests\u001b[0m\u001b[0;34m\u001b[0m\u001b[0;34m\u001b[0m\u001b[0m\n\u001b[1;32m      5\u001b[0m \u001b[0;32mimport\u001b[0m \u001b[0mjson\u001b[0m\u001b[0;34m\u001b[0m\u001b[0;34m\u001b[0m\u001b[0m\n",
      "\u001b[0;31mModuleNotFoundError\u001b[0m: No module named 'pandas'"
     ]
    }
   ],
   "source": [
    "# Bibliotecas Py\n",
    "\n",
    "import pandas as pd\n",
    "import requests\n",
    "import json\n",
    "import numpy as np\n",
    "import itertools\n",
    "import shutil\n",
    "from google.colab import drive\n",
    "from google.colab import files\n",
    "\n",
    "# drive.mount('drive')"
   ]
  },
  {
   "cell_type": "markdown",
   "metadata": {
    "id": "S6t-e9qhYtZ5"
   },
   "source": [
    "# Fontes de dados"
   ]
  },
  {
   "cell_type": "markdown",
   "metadata": {
    "id": "NsPBxZgDePQp"
   },
   "source": [
    "Fontes de dados utilizadas:\n",
    "\n",
    "* SIASG - Sistema Integrado de Administração de Serviços Gerais, Ministério da Economia\n",
    " \n",
    "* CEIS - Cadastro Nacional de Empresas Inidôneas e Suspensas, Controladoria Gera da União - CGU\n",
    "\n",
    "* CNEP - Cadastro Nacional de Empresas Punidas,\n",
    "\n",
    "  - Portal de Compras Governamentais\n",
    "    - [API](http://compras.dados.gov.br/)\n",
    "    - [Dicionário de dados](http://compras.dados.gov.br/docs/lista-metodos-licitacoes.html)\n",
    "\n",
    "  - Portal da Transparência\n",
    "    - [API](http://api.portaldatransparencia.gov.br/)\n",
    "    - [Documentação](#)\n",
    "    - [Dicionário de dados](http://www.portaldatransparencia.gov.br/pagina-interna/603389-dicionario-de-dados-licitacoes)\n",
    "\n",
    "\n",
    "* Projeto de compartilhamento de dados do ICIJ - [Datashare](https://datashare.icij.org/) "
   ]
  },
  {
   "cell_type": "markdown",
   "metadata": {
    "id": "fhWi9bg28M2E"
   },
   "source": [
    "#### ORGÃOS DO DF > UASG > LICITACOES > DESPESAS > FORNECEDORES"
   ]
  },
  {
   "cell_type": "markdown",
   "metadata": {
    "id": "41J3-Q_MIs_l"
   },
   "source": [
    "# Descricão dos dados - Transparência"
   ]
  },
  {
   "cell_type": "markdown",
   "metadata": {
    "id": "MxjG26QLI-XC"
   },
   "source": [
    "### Órgãos do DF"
   ]
  },
  {
   "cell_type": "markdown",
   "metadata": {
    "id": "6sxSIUOMfy7s"
   },
   "source": [
    "### Despesas por órgão"
   ]
  },
  {
   "cell_type": "code",
   "execution_count": null,
   "metadata": {
    "collapsed": true,
    "id": "wb4WkO8ch-PT"
   },
   "outputs": [],
   "source": [
    "chave = {'chave-api-dados':'b07b2db3a9698e2a350ef9d36d0eb280'}"
   ]
  },
  {
   "cell_type": "code",
   "execution_count": null,
   "metadata": {
    "collapsed": true,
    "id": "-EdbsKg2gOvd"
   },
   "outputs": [],
   "source": [
    "json = []\n",
    "\n",
    "for ano in range(2015, 2020):\n",
    "  for i in orgaos:\n",
    "    url= f'http://api.portaldatransparencia.gov.br/api-de-dados/despesas/por-orgao?ano={ano}&orgao={i}&pagina=1'\n",
    "    # print(url)\n",
    "    res = requests.get(url, verify=True,headers=chave).json()\n",
    "    json = json + res\n",
    "  \n",
    "json = list(filter(None, json))\n",
    "dfOrgaosDespesas = pd.DataFrame(json) "
   ]
  },
  {
   "cell_type": "code",
   "execution_count": null,
   "metadata": {
    "colab": {
     "base_uri": "https://localhost:8080/"
    },
    "collapsed": false,
    "id": "E6k19LtR3eXW",
    "outputId": "1aefe950-6269-4f73-8467-1a9dccfabed3"
   },
   "outputs": [],
   "source": [
    "json[0]"
   ]
  },
  {
   "cell_type": "code",
   "execution_count": null,
   "metadata": {
    "colab": {
     "base_uri": "https://localhost:8080/",
     "height": 150
    },
    "collapsed": false,
    "id": "0NPR4ZRsDhc_",
    "outputId": "a30a9aba-3fb4-42ec-96ef-20b8f93ff63e"
   },
   "outputs": [],
   "source": [
    "dfOrgaosDespesas.head()"
   ]
  },
  {
   "cell_type": "markdown",
   "metadata": {
    "id": "V4uy_XQF-hk1"
   },
   "source": [
    "# Descrição dos dados - compras.gov.br"
   ]
  },
  {
   "cell_type": "markdown",
   "metadata": {
    "id": "XY-UekLoOgSB"
   },
   "source": [
    "ORGÃOS DO DF > UASG > LICITACOES > CONTRATOS > MODALIDADES \n",
    "\n",
    "PREGAO > RESULTADO > FORNECEDOR > ITENS > VALORES LANCES > PROPOSTAS > EVENTOS\n"
   ]
  },
  {
   "cell_type": "markdown",
   "metadata": {
    "id": "8JnA4C4eYtZ9"
   },
   "source": [
    "### Órgãos do DF"
   ]
  },
  {
   "cell_type": "markdown",
   "metadata": {
    "id": "ySCOLGyn88bh"
   },
   "source": [
    "#### metadados\n"
   ]
  },
  {
   "cell_type": "markdown",
   "metadata": {
    "id": "h1pz-5GEiBOL"
   },
   "source": [
    "- ativo\t- Se o órgão está ativo.\n",
    "- codigo - Código do órgão\n",
    "- codigo_tipo_adm\t- Código do tipo da administração do órgão\n",
    "- codigo_tipo_esfera\t- Tipo da esfera do órgão\n",
    "- codigo_tipo_poder\t- Código do tipo do poder do órgão\n",
    "- nome\t- Nome do órgão.\n",
    "\n",
    "http://compras.dados.gov.br/licitacoes/doc/orgao/54000"
   ]
  },
  {
   "cell_type": "markdown",
   "metadata": {
    "id": "Nob4fkHg9YwQ"
   },
   "source": [
    "#### execução"
   ]
  },
  {
   "cell_type": "code",
   "execution_count": null,
   "metadata": {
    "collapsed": true,
    "id": "X0pC_29VYtZ_"
   },
   "outputs": [],
   "source": [
    "# download API\n",
    "\n",
    "res = requests.get('http://compras.dados.gov.br/licitacoes/v1/orgaos.json?nome=Distrito+federal', verify=True).json()\n",
    "jsonOrgaos = res['_embedded']['Orgaos']\n",
    "dfOrgao = pd.DataFrame(jsonOrgaos)"
   ]
  },
  {
   "cell_type": "code",
   "execution_count": null,
   "metadata": {
    "collapsed": true,
    "id": "bfG-rWkQHWF5"
   },
   "outputs": [],
   "source": [
    "# leitura arquivo one drive\n",
    "\n",
    "with open('example.txt', 'w') as f:\n",
    "  f.write('some content')\n",
    "\n",
    "files.download('example.txt')"
   ]
  },
  {
   "cell_type": "code",
   "execution_count": null,
   "metadata": {
    "colab": {
     "base_uri": "https://localhost:8080/",
     "height": 258
    },
    "collapsed": false,
    "id": "liu17illYtaB",
    "outputId": "52357ed8-60a6-4af7-ba70-d97497fadc39"
   },
   "outputs": [],
   "source": [
    "dfOrgao[['codigo','nome','codigo_tipo_esfera','ativo']].head()"
   ]
  },
  {
   "cell_type": "code",
   "execution_count": null,
   "metadata": {
    "collapsed": true,
    "id": "7q9oS3sBXyYF"
   },
   "outputs": [],
   "source": [
    "dfOrgao.to_csv('/content/drive/My Drive/Colab Notebooks/TCC/dados_fonte/orgaos.csv', mode='w', header=True)"
   ]
  },
  {
   "cell_type": "markdown",
   "metadata": {
    "id": "rgtxMeUhYtaF"
   },
   "source": [
    "### UASGs relacionadas e Órgãos Superiores"
   ]
  },
  {
   "cell_type": "markdown",
   "metadata": {
    "id": "Ja7mvlMK92V8"
   },
   "source": [
    "#### metadados"
   ]
  },
  {
   "cell_type": "markdown",
   "metadata": {
    "id": "J-Pfusf1k2BM"
   },
   "source": [
    "UASG: Unidade Administrativa de Serviços Gerais do SIASG\n",
    "\n",
    "- ativo -\tSe a UASG está ativa.\n",
    "- cep -\tCEP da UASG.\n",
    "- cnpj -\tCNPJ da UASG\n",
    "- id -\tIdentificador único da UASG no SICAF.\n",
    "- id_municipio -\tIdentificador único do município da UASG.\n",
    "- id_orgao -\tIdentificador único do órgão no SICAF.\n",
    "- id_orgao_superior -\tIdentificador único do órgão Superior.\n",
    "- nome -\tNome da UASG.\n",
    "- total_fornecedores_cadastrados -\tQuantidade total de fornecedores cadastrados na UASG.\n",
    "- total_fornecedores_recadastrados -\tQuantidade total de fornecedores recadastrados, no novo SICAF, na UASG.\n",
    "- unidade_cadastradora -\tUnidade cadastradora.\n",
    "\n",
    "http://compras.dados.gov.br/docs/licitacoes/v1/uasgs.html"
   ]
  },
  {
   "cell_type": "markdown",
   "metadata": {
    "id": "YSJNDUUd98i2"
   },
   "source": [
    "#### execucao"
   ]
  },
  {
   "cell_type": "code",
   "execution_count": null,
   "metadata": {
    "colab": {
     "base_uri": "https://localhost:8080/"
    },
    "collapsed": false,
    "id": "PiW05dzvYtaG",
    "outputId": "70037eb7-1a74-4a0c-8968-3073aa60eb82"
   },
   "outputs": [],
   "source": [
    "arrUasg = []\n",
    "\n",
    "for i in dfOrgao.codigo:\n",
    "  # print(str(i))\n",
    "  res = requests.get('http://compras.dados.gov.br/licitacoes/v1/uasgs.json?id_orgao='+str(i), verify=True).json()\n",
    "  arrUasg = arrUasg + res['_embedded']['uasgs']\n",
    "\n",
    "dfUasg = pd.DataFrame(arrUasg) \n",
    "dfUasg.columns\n"
   ]
  },
  {
   "cell_type": "code",
   "execution_count": null,
   "metadata": {
    "collapsed": true,
    "id": "BV_Emur20yeQ"
   },
   "outputs": [],
   "source": [
    "dfUasg.to_csv('/content/drive/My Drive/Colab Notebooks/TCC/dados_fonte/uasgs.csv', mode='w', header=True)"
   ]
  },
  {
   "cell_type": "code",
   "execution_count": null,
   "metadata": {
    "colab": {
     "base_uri": "https://localhost:8080/"
    },
    "collapsed": false,
    "id": "925Czx_yEud6",
    "outputId": "b6f6b45f-b4ae-4f21-d7bb-8a5610ead83b"
   },
   "outputs": [],
   "source": [
    "orgaos = dfUasg.id_orgao.unique()\n",
    "orgaos_super = dfUasg.id_orgao_superior.unique()\n",
    "print(orgaos_super)"
   ]
  },
  {
   "cell_type": "markdown",
   "metadata": {
    "id": "H5-dHCmHYtaK"
   },
   "source": [
    "### Licitações por UASG"
   ]
  },
  {
   "cell_type": "markdown",
   "metadata": {
    "id": "YZq52mckIJBv"
   },
   "source": [
    "### Contratos vinculados as licitacões"
   ]
  },
  {
   "cell_type": "code",
   "execution_count": null,
   "metadata": {
    "collapsed": true,
    "id": "hERWihxvF5SI"
   },
   "outputs": [],
   "source": []
  },
  {
   "cell_type": "markdown",
   "metadata": {
    "id": "GTSuZJRe-DxE"
   },
   "source": [
    "#### metadados"
   ]
  },
  {
   "cell_type": "markdown",
   "metadata": {
    "id": "tkNaLOJK4g0A"
   },
   "source": [
    "- codigo_do_item_no_catalogo -\tCódigo do Item no Catálogo.\n",
    "- data_abertura_proposta -\tData de abertura da proposta.\n",
    "- data_entrega_edital -\tData de Entrega do Edital.\n",
    "- data_entrega_proposta -\tData de entrega da proposta.\n",
    "- data_publicacao -\tData da publicação da licitação.\n",
    "- endereco_entrega_edital -\tEndereço de Entrega do Edital.\n",
    "- funcao_responsavel -\tFunção do Responsável pela Licitação.\n",
    "- identificador -\tIdentificador da Licitação.\n",
    "- informacoes_gerais -\tInformações Gerais.\n",
    "- modalidade -\tCódigo da Modalidade da Licitação.\n",
    "- nome_responsavel -\tNome do Responsável pela Licitação.\n",
    "- numero_aviso -\tNúmero do Aviso da Licitação.\n",
    "- numero_item_licitacao -\tNúmero Item Licitação.\n",
    "- numero_itens -\tNúmero de Itens.\n",
    "- numero_processo -\tNúmero do Processo.\n",
    "- objeto -\tObjeto da Licitação.\n",
    "- situacao_aviso -\tSituação do aviso.\n",
    "- tipo_pregao -\tTipo do Pregão.\n",
    "- tipo_recurso -\tTipo do Recurso.\n",
    "- uasg -\tCódigo da UASG.\n",
    "\n",
    "http://compras.dados.gov.br/docs/licitacoes/v1/licitacoes.html "
   ]
  },
  {
   "cell_type": "markdown",
   "metadata": {
    "id": "WxKZneBe-HKs"
   },
   "source": [
    "#### execucao"
   ]
  },
  {
   "cell_type": "code",
   "execution_count": null,
   "metadata": {
    "collapsed": true,
    "id": "Y45mccXvVpHs"
   },
   "outputs": [],
   "source": [
    "dfUasg.head()"
   ]
  },
  {
   "cell_type": "code",
   "execution_count": null,
   "metadata": {
    "collapsed": true,
    "id": "ugrBfbPj6b3C"
   },
   "outputs": [],
   "source": [
    "# exemplo retorno\n",
    "\n",
    "# http://compras.dados.gov.br/licitacoes/v1/licitacoes.json?uasg=389144\n",
    "# print(url)\n",
    "res = requests.get(f'{api}', verify=True, stream=True).json()\n",
    "\n",
    "print(res)\n",
    "# paginação"
   ]
  },
  {
   "cell_type": "code",
   "execution_count": null,
   "metadata": {
    "collapsed": true,
    "id": "lG-62TXYhwbq"
   },
   "outputs": [],
   "source": [
    "json = []\n",
    "offset = 0\n",
    "session = requests.Session()\n",
    "\n",
    "for i in dfUasg.id:\n",
    "  url = f'http://compras.dados.gov.br/licitacoes/v1/licitacoes.json?uasg={i}&offset={offset}'\n",
    "  print(url)\n",
    "  offset = offset + 500\n",
    "  with requests.get(f'{url}&offset={offset}', verify=True, stream=True).json() as r:\n",
    "    r = session.get(url, stream = True, verify=True).json()\n",
    "    r.raise_for_status()\n",
    "    for chunk in r.iter_content(500):\n",
    "        if(r['_embedded']['licitacoes'] != 0):\n",
    "          json.append(r['_embedded']['licitacoes'])\n",
    "\n",
    "dfLicitacoes = pd.DataFrame(json)"
   ]
  },
  {
   "cell_type": "code",
   "execution_count": null,
   "metadata": {
    "colab": {
     "base_uri": "https://localhost:8080/"
    },
    "collapsed": false,
    "id": "VMB6nfyFYV9e",
    "outputId": "3fc17401-cc33-47b1-dcd2-bcebc0fa8693"
   },
   "outputs": [],
   "source": [
    "# teste = pd.DataFrame() (json['_embedded']['licitacoes'])\n"
   ]
  },
  {
   "cell_type": "code",
   "execution_count": null,
   "metadata": {
    "collapsed": true,
    "id": "YbjmW7W3gS-t"
   },
   "outputs": [],
   "source": []
  },
  {
   "cell_type": "code",
   "execution_count": null,
   "metadata": {
    "collapsed": true,
    "id": "EUv1I2emMKkn"
   },
   "outputs": [],
   "source": [
    "\n",
    "json['_embedded']['licitacoes']\n",
    "\n"
   ]
  },
  {
   "cell_type": "code",
   "execution_count": null,
   "metadata": {
    "collapsed": true,
    "id": "CHkSuG1FIP6t"
   },
   "outputs": [],
   "source": [
    "# http://compras.dados.gov.br/contratos/v1/contratos.html?uasg=20001&order_by=data_assinatura&order=desc"
   ]
  },
  {
   "cell_type": "markdown",
   "metadata": {
    "id": "Z7xpDA0lQYj6"
   },
   "source": [
    "### Modalidades de licitações"
   ]
  },
  {
   "cell_type": "code",
   "execution_count": null,
   "metadata": {
    "collapsed": true,
    "id": "rNfzp-FuQmPc"
   },
   "outputs": [],
   "source": [
    "url = 'http://compras.dados.gov.br/licitacoes/v1/modalidades_licitacao.json'\n",
    "json = requests.get(url, verify=True).json()"
   ]
  },
  {
   "cell_type": "code",
   "execution_count": null,
   "metadata": {
    "collapsed": true,
    "id": "tWCL8n5eRsAu"
   },
   "outputs": [],
   "source": [
    "dfModalidades = pd.DataFrame(json['_embedded']['ModalidadesLicitacao'])"
   ]
  },
  {
   "cell_type": "code",
   "execution_count": null,
   "metadata": {
    "colab": {
     "base_uri": "https://localhost:8080/",
     "height": 419
    },
    "collapsed": false,
    "id": "QWJ7_XvARyZ4",
    "outputId": "2b4ab0a5-e91d-46ff-f057-1015c9721b07"
   },
   "outputs": [],
   "source": [
    "pd.set_option('display.max_colwidth', None)\n",
    "dfModalidades[['codigo','descricao']]"
   ]
  },
  {
   "cell_type": "markdown",
   "metadata": {
    "id": "UXGZKzB5YtaO"
   },
   "source": [
    "### Grupos relacionados a TIC"
   ]
  },
  {
   "cell_type": "code",
   "execution_count": null,
   "metadata": {
    "collapsed": true,
    "id": "4W6gXFaYYtaO"
   },
   "outputs": [],
   "source": [
    "json = requests.get('http://compras.dados.gov.br/servicos/v1/grupos.json?descricao=TIC', verify=True).json()\n",
    "\n",
    "obj = json['_embedded']['grupos']\n",
    "\n",
    "df = pd.DataFrame(obj)\n",
    "dfGrupos = df[['codigo','descricao']]\n",
    "dfGrupos = dfGrupos[dfGrupos.codigo.isin([162,163,164,165,166,168,171,172,173,174,800])]"
   ]
  },
  {
   "cell_type": "code",
   "execution_count": null,
   "metadata": {
    "collapsed": true,
    "id": "5NU-qAL4YtaQ"
   },
   "outputs": [],
   "source": [
    "dfGrupos"
   ]
  },
  {
   "cell_type": "markdown",
   "metadata": {
    "id": "N6w8DMxFFxSI"
   },
   "source": [
    "### Despesas por Órgão - compras.dados.gov"
   ]
  }
 ],
 "metadata": {
  "colab": {
   "collapsed_sections": [
    "S6t-e9qhYtZ5",
    "41J3-Q_MIs_l",
    "ySCOLGyn88bh",
    "rgtxMeUhYtaF",
    "Ja7mvlMK92V8",
    "N6w8DMxFFxSI",
    "GTSuZJRe-DxE"
   ],
   "name": "comprasgov.ipynb",
   "provenance": []
  },
  "interpreter": {
   "hash": "a8b97659b4ac75e34b08cbb60f741f6fa1b09294bdc88c93c69cd97922217a91"
  },
  "kernelspec": {
   "display_name": "Python 3",
   "language": "python",
   "name": "python3"
  },
  "language_info": {
   "codemirror_mode": {
    "name": "ipython",
    "version": 3
   },
   "file_extension": ".py",
   "mimetype": "text/x-python",
   "name": "python",
   "nbconvert_exporter": "python",
   "pygments_lexer": "ipython3",
   "version": "3.7.3"
  }
 },
 "nbformat": 4,
 "nbformat_minor": 0
}
